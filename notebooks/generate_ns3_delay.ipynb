{
 "cells": [
  {
   "cell_type": "code",
   "execution_count": null,
   "metadata": {},
   "outputs": [],
   "source": [
    "%matplotlib inline\n",
    "%load_ext autoreload\n",
    "%autoreload 2\n",
    "import os\n",
    "import inspect\n",
    "\n",
    "currentdir = os.path.dirname(os.path.abspath(\n",
    "    inspect.getfile(inspect.currentframe())))\n",
    "parentdir = os.path.dirname(currentdir)\n",
    "srcdir = parentdir + '/src'\n",
    "os.sys.path.insert(1, srcdir)\n",
    "\n",
    "import numpy as np\n",
    "\n",
    "import time\n",
    "import random\n",
    "import pybullet as p\n",
    "import pybullet_data\n",
    "import matplotlib\n",
    "import numpy.matlib as matlib\n",
    "from numpy import nan\n",
    "from numpy.linalg import norm as norm\n",
    "import commands\n",
    "import pandas as pd\n",
    "\n",
    "\n",
    "import matplotlib.pyplot as plt"
   ]
  },
  {
   "cell_type": "code",
   "execution_count": null,
   "metadata": {},
   "outputs": [],
   "source": [
    "font = {'family' : 'serif',\n",
    "        'size'   : 22}\n",
    "\n",
    "matplotlib.rc('font', **font)\n",
    "np.set_printoptions(precision=3, linewidth=200, suppress=True)"
   ]
  },
  {
   "cell_type": "code",
   "execution_count": null,
   "metadata": {},
   "outputs": [],
   "source": [
    "N_SIMULATION = 5000\n",
    "SCENARIO = 'building'\n",
    "\n",
    "data_path = parentdir + '/data/ns3/' + SCENARIO\n",
    "path_received = data_path + '/raw/received_packets.txt'\n",
    "path_transmitted = data_path + '/raw/transmitted_packets.txt'\n",
    "\n",
    "serialNumber = []\n",
    "TimeStampReceived = []\n",
    "TimeStampTransmitted = []\n",
    "TimeDiff = []\n",
    "\n",
    "dataReceived = pd.read_csv(path_received, delimiter=\":\", header=None, names=[\"serial\", \"timeStamp\"])\n",
    "serialReceived   = dataReceived['serial'].values\n",
    "timeStampReceived = dataReceived['timeStamp'].values\n",
    "\n",
    "dataTransmitted = pd.read_csv(path_transmitted,delimiter=\":\", header=None, names=[\"serial\", \"timeStamp\"])\n",
    "serialTransmitted   = dataTransmitted['serial'].values\n",
    "timeStampTransmitted = dataTransmitted['timeStamp'].values"
   ]
  },
  {
   "cell_type": "code",
   "execution_count": null,
   "metadata": {},
   "outputs": [],
   "source": [
    "N = dataReceived['serial'].size\n",
    "\n",
    "for i in range(1, N):\n",
    "\n",
    "    received = dataReceived[dataReceived['serial'] == serialTransmitted[i]]\n",
    "    if (not received.empty) and received['timeStamp'].values[0] != 0 and timeStampTransmitted[i] != 0 :\n",
    "        timediff = received['timeStamp'].values[0] - timeStampTransmitted[i]\n",
    "    else:\n",
    "        timediff = np.inf\n",
    "    TimeDiff.append(timediff)"
   ]
  },
  {
   "cell_type": "code",
   "execution_count": null,
   "metadata": {},
   "outputs": [],
   "source": [
    "rtt = 2e-3 * np.array(TimeDiff)\n",
    "total_length = rtt.shape[0]"
   ]
  },
  {
   "cell_type": "code",
   "execution_count": null,
   "metadata": {},
   "outputs": [],
   "source": [
    "N_SIMULATION = 5000\n",
    "num_traj = 100\n",
    "delays_all = []\n",
    "for k in range(num_traj):\n",
    "    start = random.randint(0, total_length - N_SIMULATION)\n",
    "    td = rtt[start: start + N_SIMULATION]\n",
    "    time_received = np.array([i + td[i] for i in range(N_SIMULATION)])\n",
    "    delays = np.zeros(N_SIMULATION)\n",
    "    delayed_ids = N_SIMULATION * [0]\n",
    "    for i in range(N_SIMULATION):\n",
    "        # find the latest command arrived before the current time\n",
    "        id_arrived = np.nonzero(time_received <= i)[0]\n",
    "        if id_arrived.size > 0:\n",
    "            delayed_id = id_arrived.max()\n",
    "        else:\n",
    "            delayed_id = 0\n",
    "        delays[i] = i - delayed_id\n",
    "        delayed_ids[i] = int(delayed_id)\n",
    "    delays_all.append(delays)\n",
    "    np.save(data_path + '/delayed_ids/'+ str(k), delayed_ids)\n",
    "delays_all = np.concatenate(delays_all)"
   ]
  },
  {
   "cell_type": "code",
   "execution_count": null,
   "metadata": {},
   "outputs": [],
   "source": [
    "hist, bin_edges = np.histogram(delays_all, bins=np.arange(0, 100, 10))\n",
    "fig, ax = plt.subplots(1, figsize=(10, 6))\n",
    "ax.hist(delays_all, \n",
    "        bins=np.arange(0, np.nanmax(delays_all[delays_all != np.inf])), \n",
    "        weights=np.ones(len(delays_all)) / len(delays_all))\n",
    "\n",
    "ax.grid()\n",
    "ax.set_xlabel('Delay [ms]')\n",
    "ax.set_ylabel('Frequency' )\n",
    "_ = ax.set_yticklabels(['%1.0f%%' %i for i in 100*ax.get_yticks()])"
   ]
  },
  {
   "cell_type": "code",
   "execution_count": null,
   "metadata": {},
   "outputs": [],
   "source": [
    "print np.max(delays_all)"
   ]
  },
  {
   "cell_type": "code",
   "execution_count": null,
   "metadata": {},
   "outputs": [],
   "source": [
    "dt = 0.001\n",
    "T = np.arange(0, N_SIMULATION*dt, dt)\n",
    "fig, ax = plt.subplots(1, figsize=(10, 6))\n",
    "ax.plot(T, delays, lw=1, c='k', ls='-', drawstyle='steps')\n",
    "\n",
    "ax.grid()\n",
    "ax.set_xlabel('Time [s]')\n",
    "ax.set_ylabel('Delay [ms]' )\n",
    "ax.ticklabel_format(style='sci',scilimits=(-3,4), axis='y')\n",
    "ax.set_ylim([0, 150])\n",
    "fig.savefig('delay_building.eps')"
   ]
  },
  {
   "cell_type": "code",
   "execution_count": null,
   "metadata": {},
   "outputs": [],
   "source": []
  }
 ],
 "metadata": {
  "kernelspec": {
   "display_name": "Python 2",
   "language": "python",
   "name": "python2"
  },
  "language_info": {
   "codemirror_mode": {
    "name": "ipython",
    "version": 2
   },
   "file_extension": ".py",
   "mimetype": "text/x-python",
   "name": "python",
   "nbconvert_exporter": "python",
   "pygments_lexer": "ipython2",
   "version": "2.7.15"
  }
 },
 "nbformat": 4,
 "nbformat_minor": 2
}
