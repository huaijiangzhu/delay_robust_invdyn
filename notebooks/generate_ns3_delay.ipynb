{
 "cells": [
  {
   "cell_type": "code",
   "execution_count": 1,
   "metadata": {},
   "outputs": [],
   "source": [
    "%matplotlib inline\n",
    "%load_ext autoreload\n",
    "%autoreload 2\n",
    "import os\n",
    "import inspect\n",
    "\n",
    "currentdir = os.path.dirname(os.path.abspath(\n",
    "    inspect.getfile(inspect.currentframe())))\n",
    "parentdir = os.path.dirname(currentdir)\n",
    "srcdir = parentdir + '/src'\n",
    "os.sys.path.insert(1, srcdir)\n",
    "\n",
    "import numpy as np\n",
    "\n",
    "import time\n",
    "import pybullet as p\n",
    "import pybullet_data\n",
    "import pinocchio as se3\n",
    "import matplotlib\n",
    "import tsid\n",
    "import numpy.matlib as matlib\n",
    "from numpy import nan\n",
    "from numpy.linalg import norm as norm\n",
    "import commands\n",
    "import pandas as pd\n",
    "\n",
    "\n",
    "import matplotlib.pyplot as plt\n",
    "from pinbullet_wrapper import PinBulletWrapper\n",
    "from pinocchio.robot_wrapper import RobotWrapper\n",
    "from pinocchio.utils import zero"
   ]
  },
  {
   "cell_type": "code",
   "execution_count": 2,
   "metadata": {},
   "outputs": [],
   "source": [
    "font = {'family' : 'serif',\n",
    "        'size'   : 22}\n",
    "\n",
    "matplotlib.rc('font', **font)\n",
    "np.set_printoptions(precision=3, linewidth=200, suppress=True)"
   ]
  },
  {
   "cell_type": "code",
   "execution_count": null,
   "metadata": {},
   "outputs": [],
   "source": [
    "N_SIMULATION = 5000\n",
    "SCENARIO = 'factory'\n",
    "\n",
    "data_path = parentdir + '/data/ns3/' + SCENARIO\n",
    "path_received = data_path + '/raw/received_time.txt'\n",
    "path_transmitted = data_path + '/raw/transmitted_time.txt'\n",
    "\n",
    "serialNumber = []\n",
    "TimeStampReceived = []\n",
    "TimeStampTransmitted = []\n",
    "TimeDiff = []\n",
    "\n",
    "dataReceived = pd.read_csv(path_received, delimiter=\":\", header=None, names=[\"serial\", \"timeStamp\"])\n",
    "serialReceived   = dataReceived['serial'].values\n",
    "sizee = dataReceived['serial'].size\n",
    "timeStampReceived = dataReceived['timeStamp'].values\n",
    "\n",
    "dataTransmitted = pd.read_csv(path_transmitted,delimiter=\":\", header=None, names=[\"serial\", \"timeStamp\"])\n",
    "serialTransmitted   = dataTransmitted['serial'].values\n",
    "timeStampTransmitted = dataTransmitted['timeStamp'].values\n",
    "\n",
    "outPutConcat = {}\n",
    "\n",
    "for i in range(1, sizee):\n",
    "\n",
    "    searchedResultA = dataReceived[dataReceived['serial'] == serialTransmitted[i]]\n",
    "    #         print(searchedResultA['serial'].values[0])\n",
    "    #         print(searchedResultA['timeStamp'].values[0])\n",
    "    #         print(timeStampTransmitted[i])\n",
    "    if (not searchedResultA.empty) and searchedResultA['timeStamp'].values[0] != 0 and timeStampTransmitted[i] != 0 :\n",
    "        timediff = searchedResultA['timeStamp'].values[0] - timeStampTransmitted[i]\n",
    "        serialNumber.append(searchedResultA['serial'].values[0])\n",
    "        TimeStampReceived.append(searchedResultA['timeStamp'].values[0])\n",
    "        TimeStampTransmitted.append(timeStampTransmitted[i])\n",
    "    else:\n",
    "        timediff = N_SIMULATION + 1\n",
    "    TimeDiff.append(timediff)\n",
    "    \n",
    "rtt = 2e-3 * np.array(TimeDiff)\n",
    "rtt = rtt[19000:]"
   ]
  },
  {
   "cell_type": "code",
   "execution_count": null,
   "metadata": {},
   "outputs": [],
   "source": [
    "N_SIMULATION = 5000\n",
    "NUM_TRAJ = 10\n",
    "for k in range(NUM_TRAJ):\n",
    "    td = rtt[k * N_SIMULATION : (k + 1) * N_SIMULATION]\n",
    "    time_received = np.array([i + td[i] for i in range(N_SIMULATION)])\n",
    "    idx_most_recent_comm = 0\n",
    "    delay = np.zeros(N_SIMULATION)\n",
    "    DELAYED_IDX = []\n",
    "    for i in range(N_SIMULATION):\n",
    "        # find the latest command arrived before the current time\n",
    "        idx_arrived = np.nonzero(time_received <= i)[0]\n",
    "        if idx_arrived.size > 0:\n",
    "            delayed_idx = idx_arrived.max()\n",
    "            delay[i] = i - delayed_idx\n",
    "        else:\n",
    "            delayed_idx = 0\n",
    "            delay[i] = i - delayed_idx\n",
    "        DELAYED_IDX.append(delayed_idx)\n",
    "    np.save(data_path + '/delayed_idx/'+ str(k), DELAYED_IDX)"
   ]
  },
  {
   "cell_type": "code",
   "execution_count": null,
   "metadata": {},
   "outputs": [],
   "source": [
    "plt.plot(rtt)"
   ]
  },
  {
   "cell_type": "code",
   "execution_count": null,
   "metadata": {},
   "outputs": [],
   "source": [
    "dt = 0.001\n",
    "Time = np.arange(0, N_SIMULATION*dt, dt)\n",
    "fig, ax = plt.subplots(1, figsize=(10, 6))\n",
    "ax.plot(Time, delay, lw=1, c='k', ls='-', drawstyle='steps')\n",
    "\n",
    "ax.grid()\n",
    "ax.set_xlabel('Time [s]')\n",
    "ax.set_ylabel('Delay [ms]' )\n",
    "ax.ticklabel_format(style='sci',scilimits=(-3,4), axis='y')\n",
    "ax.set_ylim([0, 200])"
   ]
  }
 ],
 "metadata": {
  "kernelspec": {
   "display_name": "Python 2",
   "language": "python",
   "name": "python2"
  },
  "language_info": {
   "codemirror_mode": {
    "name": "ipython",
    "version": 2
   },
   "file_extension": ".py",
   "mimetype": "text/x-python",
   "name": "python",
   "nbconvert_exporter": "python",
   "pygments_lexer": "ipython2",
   "version": "2.7.17"
  }
 },
 "nbformat": 4,
 "nbformat_minor": 2
}
