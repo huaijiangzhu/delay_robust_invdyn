{
 "cells": [
  {
   "cell_type": "code",
   "execution_count": 1,
   "metadata": {},
   "outputs": [],
   "source": [
    "%matplotlib inline\n",
    "%load_ext autoreload\n",
    "%autoreload 2\n",
    "import os\n",
    "import inspect\n",
    "\n",
    "currentdir = os.path.dirname(os.path.abspath(\n",
    "    inspect.getfile(inspect.currentframe())))\n",
    "parentdir = os.path.dirname(currentdir)\n",
    "srcdir = parentdir + '/src'\n",
    "os.sys.path.insert(1, srcdir)\n",
    "\n",
    "import numpy as np\n",
    "import copy\n",
    "import time\n",
    "import pybullet as p\n",
    "import pybullet_data\n",
    "import pinocchio as se3\n",
    "import matplotlib\n",
    "import tsid\n",
    "import numpy.matlib as matlib\n",
    "from numpy import nan\n",
    "from numpy.linalg import norm as norm\n",
    "import commands\n",
    "\n",
    "import matplotlib.pyplot as plt\n",
    "from pinbullet_wrapper import PinBulletWrapper\n",
    "from pinocchio.robot_wrapper import RobotWrapper\n",
    "from pinocchio.utils import zero\n",
    "from romeo_foot import RomeoFoot\n",
    "\n",
    "from dotmap import DotMap\n",
    "import pickle"
   ]
  },
  {
   "cell_type": "code",
   "execution_count": 2,
   "metadata": {},
   "outputs": [],
   "source": [
    "font = {'family' : 'serif',\n",
    "        'size'   : 22}\n",
    "\n",
    "matplotlib.rc('font', **font)\n",
    "np.set_printoptions(precision=3, linewidth=200, suppress=True)"
   ]
  },
  {
   "cell_type": "code",
   "execution_count": 3,
   "metadata": {},
   "outputs": [],
   "source": [
    "SCENARIO = 'building'\n",
    "LOCAL = True\n",
    "N_EXPS = 100\n",
    "LOGS = []\n",
    "TASK = 'balance'\n",
    "\n",
    "for trial_id in range(N_EXPS):\n",
    "    file_name = TASK + '_'\n",
    "    data_path = parentdir + '/data/'\n",
    "    file_name = file_name + SCENARIO + str(trial_id)\n",
    "    if LOCAL:\n",
    "        file_name += '_local'\n",
    "    data_path += 'ns3/exp_data/'\n",
    "    exp_data = pickle.load(open( data_path + file_name + '.pkl', \"rb\" ) )\n",
    "    if exp_data.success:\n",
    "        LOGS.append(exp_data.log)\n",
    "        \n",
    "import itertools\n",
    "LOGS_CAT = list(itertools.chain.from_iterable(LOGS))"
   ]
  },
  {
   "cell_type": "markdown",
   "metadata": {},
   "source": [
    "### Success rate"
   ]
  },
  {
   "cell_type": "code",
   "execution_count": 4,
   "metadata": {},
   "outputs": [
    {
     "name": "stdout",
     "output_type": "stream",
     "text": [
      "1.0\n"
     ]
    }
   ],
   "source": [
    "print len(LOGS)/float(N_EXPS)"
   ]
  },
  {
   "cell_type": "markdown",
   "metadata": {},
   "source": [
    "### Performance metrics"
   ]
  },
  {
   "cell_type": "code",
   "execution_count": 5,
   "metadata": {},
   "outputs": [
    {
     "name": "stdout",
     "output_type": "stream",
     "text": [
      "1.3869743133694155\n",
      "0.028853023278008157\n"
     ]
    }
   ],
   "source": [
    "print np.mean([100*(np.linalg.norm(data.com.pos - data.com.pos_ref)) for data in LOGS_CAT])\n",
    "print np.mean([data.slack[1, 0] for data in LOGS_CAT])"
   ]
  },
  {
   "cell_type": "markdown",
   "metadata": {},
   "source": [
    "### Computation time"
   ]
  },
  {
   "cell_type": "code",
   "execution_count": 6,
   "metadata": {},
   "outputs": [
    {
     "name": "stdout",
     "output_type": "stream",
     "text": [
      "0.6113356604576111\n",
      "7.740020751953125\n",
      "0.12735281705856324\n",
      "2.026796340942383\n"
     ]
    }
   ],
   "source": [
    "print np.mean([1000*data.fullqp_time for data in LOGS_CAT])\n",
    "print np.max([1000*data.fullqp_time for data in LOGS_CAT])\n",
    "\n",
    "if LOCAL:\n",
    "    print np.mean([1000*data.local_time for data in LOGS_CAT])\n",
    "    print np.max([1000*data.local_time for data in LOGS_CAT])"
   ]
  },
  {
   "cell_type": "markdown",
   "metadata": {},
   "source": [
    "### Active set change"
   ]
  },
  {
   "cell_type": "code",
   "execution_count": 7,
   "metadata": {
    "scrolled": false
   },
   "outputs": [
    {
     "name": "stdout",
     "output_type": "stream",
     "text": [
      "0 0.010998504851152155 0.021813600033405777\n",
      "1 0.04788089294793715 0.18503283603409584\n",
      "2 0.053953666458022895 0.15187811277744903\n",
      "3 0.05593852750977434 0.1261086674694019\n",
      "4 0.05716145455380839 0.12078918727924955\n",
      "5 0.056024660145259024 0.14007508375234262\n",
      "6 0.05888341042399997 0.11731616055798012\n",
      "7 0.058477377519155126 0.12143567608391057\n",
      "8 0.058184240663854095 0.11625444656650825\n",
      "9 0.05965647965656773 0.10916369956031388\n",
      "10 0.060797413301586986 0.10328327755220931\n",
      "11 0.06481932631486174 0.058311160867565916\n"
     ]
    }
   ],
   "source": [
    "M = 100\n",
    "com_diff = [[] for m in range(M)]\n",
    "slack = M * [[] for m in range(M)]\n",
    "K = set()\n",
    "\n",
    "for data in LOGS_CAT:\n",
    "    error = DotMap()\n",
    "\n",
    "    activeset_cached = data.activeset\n",
    "    activeset_true = data.activeset_fullqp\n",
    "    activeset_cached = set(np.array(activeset_cached).flatten())\n",
    "    activeset_true = set(np.array(activeset_true).flatten())\n",
    "    union = activeset_cached.union(activeset_true)\n",
    "    intersection = activeset_cached.intersection(activeset_true)\n",
    "    k = len(union - intersection)\n",
    "    K.add(k)\n",
    "    com_diff[k].append(np.linalg.norm(data.com.pos[:,0]-data.com.pos_ref[:,0]))\n",
    "    slack[k].append(data.slack[1,0])\n",
    "\n",
    "M = max(K)\n",
    "for m in range(M):\n",
    "    print m, np.mean(com_diff[m]), np.mean(slack[m])"
   ]
  },
  {
   "cell_type": "markdown",
   "metadata": {},
   "source": [
    "### Plots"
   ]
  },
  {
   "cell_type": "code",
   "execution_count": 8,
   "metadata": {},
   "outputs": [],
   "source": [
    "# N_SIMULATION = exp_data.N_SIMULATION\n",
    "# dt = exp_data.dt\n",
    "# N_STEPS = exp_data.N_STEPS\n",
    "# ONBOARD_WINDOW = exp_data.ONBOARD_WINDOW\n",
    "# STEP_DURATION = exp_data.STEP_DURATION\n",
    "# NS3 = exp_data.NS3\n",
    "\n",
    "# LOG = LOGS[5]\n",
    "# fig, ax = plt.subplots(1, 3, figsize=(30, 6))\n",
    "# time = np.arange(0.0, N_SIMULATION*dt, dt)\n",
    "# axes = ['x', 'y', 'z']\n",
    "# for i in range(3):\n",
    "#     err = 100*np.abs([data.com.pos[i,0]-data.com.pos_ref[i,0] for data in LOG])\n",
    "#     ax[0].plot(time, err, lw=4, label='CoM '+axes[i])\n",
    "    \n",
    "# ax[0].grid()\n",
    "# ax[0].set_xlabel('Time [s]')\n",
    "# ax[0].set_ylabel('CoM tracking error' + ' [cm]' )\n",
    "# _ = ax[0].legend(loc='upper left', ncol=1, fancybox=True, shadow=True)\n",
    "# ax[0].set_ylim([0, 10])\n",
    "\n",
    "# slack = [data.slack[1, 0] for data in LOG]\n",
    "# ax[1].plot(time, slack, lw=1)\n",
    "# ax[1].grid()\n",
    "# ax[1].set_xlabel('Time [s]')\n",
    "# ax[1].set_ylabel('Constraint violation' )\n",
    "# # ax[1].ticklabel_format(style='sci', axis='y', scilimits=(0,0))\n",
    "# # ax[1].set_ylim([0, 20])\n",
    "\n",
    "# delays = [data.delay for data in LOG]\n",
    "# ax[2].grid()\n",
    "# ax[2].set_xlabel('Time [s]')\n",
    "# ax[2].set_ylabel('Delay [ms]' )           \n",
    "# ax[2].plot(time, delays, lw=1, color='k')\n",
    "# ax[2].set_ylim([0, 180])\n",
    "\n",
    "\n",
    "# for s in range(N_STEPS + 1):\n",
    "#     lb = ONBOARD_WINDOW\n",
    "#     ub = ONBOARD_WINDOW\n",
    "#     if s == 0:\n",
    "#         lb = 0\n",
    "#     if s == N_STEPS:\n",
    "#         ub = 0\n",
    "#     ax[2].axvspan(1e-3*(s * STEP_DURATION - lb), \n",
    "#                   1e-3*(s * STEP_DURATION + ub), \n",
    "#                   alpha=0.5, color='green',\n",
    "#                   label=\"_\"*s + \"Full QP solved onboard\")\n",
    "#     _ = ax[2].legend(loc='upper left', fancybox=True, shadow=True)\n",
    "\n",
    "# file_name = 'walk_err_'\n",
    "# if NS3:\n",
    "#     file_name += SCENARIO\n",
    "#     file_name += str(IDX)\n",
    "# if LOCAL:\n",
    "#     file_name += '_local'\n",
    "    \n",
    "# plot_path = parentdir + '/data/plots/'\n",
    "# # fig.savefig(plot_path + file_name + '.png', bbox_inches='tight')"
   ]
  }
 ],
 "metadata": {
  "kernelspec": {
   "display_name": "Python 2",
   "language": "python",
   "name": "python2"
  },
  "language_info": {
   "codemirror_mode": {
    "name": "ipython",
    "version": 2
   },
   "file_extension": ".py",
   "mimetype": "text/x-python",
   "name": "python",
   "nbconvert_exporter": "python",
   "pygments_lexer": "ipython2",
   "version": "2.7.17"
  }
 },
 "nbformat": 4,
 "nbformat_minor": 2
}
