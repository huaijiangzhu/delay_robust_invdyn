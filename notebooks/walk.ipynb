{
 "cells": [
  {
   "cell_type": "code",
   "execution_count": 1,
   "metadata": {},
   "outputs": [],
   "source": [
    "%matplotlib inline\n",
    "%load_ext autoreload\n",
    "%autoreload 2\n",
    "import os\n",
    "import inspect\n",
    "\n",
    "currentdir = os.path.dirname(os.path.abspath(\n",
    "    inspect.getfile(inspect.currentframe())))\n",
    "parentdir = os.path.dirname(currentdir)\n",
    "srcdir = parentdir + '/src'\n",
    "os.sys.path.insert(1, srcdir)\n",
    "\n",
    "import numpy as np\n",
    "\n",
    "import time\n",
    "import pybullet as p\n",
    "import pybullet_data\n",
    "import pinocchio as se3\n",
    "import matplotlib\n",
    "import tsid\n",
    "import numpy.matlib as matlib\n",
    "from numpy import nan\n",
    "from numpy.linalg import norm as norm\n",
    "import commands\n",
    "\n",
    "import matplotlib.pyplot as plt\n",
    "from pinbullet_wrapper import PinBulletWrapper\n",
    "from pinocchio.robot_wrapper import RobotWrapper\n",
    "from pinocchio.utils import zero\n",
    "from romeo_foot import RomeoFoot\n",
    "\n",
    "from dotmap import DotMap\n",
    "import pickle"
   ]
  },
  {
   "cell_type": "code",
   "execution_count": 2,
   "metadata": {},
   "outputs": [],
   "source": [
    "font = {'family' : 'serif',\n",
    "        'size'   : 22}\n",
    "\n",
    "matplotlib.rc('font', **font)\n",
    "np.set_printoptions(precision=3, linewidth=200, suppress=True)"
   ]
  },
  {
   "cell_type": "code",
   "execution_count": 3,
   "metadata": {},
   "outputs": [],
   "source": [
    "BMODE = p.DIRECT\n",
    "LOGGING = False\n",
    "LOCAL = False\n",
    "\n",
    "STEP_DURATION = 800\n",
    "N_STEPS = 6\n",
    "N_SIMULATION = N_STEPS * STEP_DURATION\n",
    "DOUBLE_SUPPORT_DURATION = 5\n",
    "\n",
    "DELAY = 0\n",
    "NS3 = True\n",
    "SCENARIO = 'building'\n",
    "if NS3:\n",
    "    LOWDELAY = 5\n",
    "else:\n",
    "    LOWDELAY = DELAY\n",
    "\n",
    "DELAY_START = 0\n",
    "LOWDELAY_WINDOW = 5\n",
    "\n",
    "IMPACT_START = 2400\n",
    "IMPACT_DURATION = 200\n",
    "IMPACT_FORCE = [100, 0, 0]"
   ]
  },
  {
   "cell_type": "code",
   "execution_count": 4,
   "metadata": {},
   "outputs": [],
   "source": [
    "# compute delayed indices\n",
    "DELAYED_IDX = []\n",
    "landing = STEP_DURATION\n",
    "steps_taken = 0\n",
    "\n",
    "if NS3:\n",
    "    ns3path = parentdir + '/data/ns3/rtt/'\n",
    "    td = np.load(ns3path + 'td_'+ SCENARIO +'.npy')\n",
    "    td = np.tile(td, int((N_SIMULATION + 1.0)/len(td)) + 1)\n",
    "    td = td[:N_SIMULATION]\n",
    "    time_received = np.array([i + td[i] for i in range(N_SIMULATION)])\n",
    "    \n",
    "    for i in range(N_SIMULATION):\n",
    "        # find the latest command arrived before the current time\n",
    "        idx_arrived = np.nonzero(time_received <= i)[0]\n",
    "        if idx_arrived.size > 0:\n",
    "            delayed_idx = idx_arrived.max()\n",
    "        else:\n",
    "            delayed_idx = 0\n",
    "            \n",
    "        DELAYED_IDX.append(delayed_idx)\n",
    "    \n",
    "    \n",
    "else:\n",
    "    for i in range(N_SIMULATION):\n",
    "        if i >= DELAY_START:\n",
    "            delayed_idx = np.maximum(i-DELAY, DELAY_START)\n",
    "        else:\n",
    "            delayed_idx = i\n",
    "        DELAYED_IDX.append(delayed_idx)"
   ]
  },
  {
   "cell_type": "code",
   "execution_count": 5,
   "metadata": {},
   "outputs": [],
   "source": [
    "# ad-hoc processing to make sure low delays when making contact\n",
    "\n",
    "for i in range(N_SIMULATION):\n",
    "    for steps in range(1, N_STEPS):\n",
    "        landing = STEP_DURATION * steps\n",
    "        if landing - LOWDELAY_WINDOW <= i < landing + LOWDELAY_WINDOW:\n",
    "            DELAYED_IDX[i] = np.maximum(i - LOWDELAY, DELAYED_IDX[i])\n",
    "            \n",
    "for i in range(N_SIMULATION):\n",
    "    for steps in range(1, N_STEPS):\n",
    "        landing = STEP_DURATION * steps\n",
    "        if landing - LOWDELAY_WINDOW <= DELAYED_IDX[i] < landing + LOWDELAY_WINDOW:\n",
    "            if landing - LOWDELAY_WINDOW <= i < landing + LOWDELAY_WINDOW:\n",
    "                DELAYED_IDX[i] = np.maximum(i - LOWDELAY, DELAYED_IDX[i])\n",
    "            else:\n",
    "                DELAYED_IDX[i] = np.maximum(DELAYED_IDX[landing + LOWDELAY_WINDOW - 1], DELAYED_IDX[i])"
   ]
  },
  {
   "cell_type": "code",
   "execution_count": 6,
   "metadata": {},
   "outputs": [],
   "source": [
    "Com = np.load(parentdir+'/data/com.npy')\n",
    "foot_steps = np.load(parentdir+'/data/foot_steps.npy')\n",
    "left_foot_steps = foot_steps[1::2]\n",
    "right_foot_steps = foot_steps[0::2]"
   ]
  },
  {
   "cell_type": "code",
   "execution_count": 7,
   "metadata": {},
   "outputs": [],
   "source": [
    "mu = 0.3                            # friction coefficient\n",
    "rf_frame_name = \"RAnkleRoll\"        # right foot frame name\n",
    "lf_frame_name = \"LAnkleRoll\"        # left foot frame name\n",
    "\n",
    "w_com = 1.0                     # weight of center of mass task\n",
    "w_posture = 1e-3                # weight of joint posture task\n",
    "w_forceRef = 1e-5               # weight of force regularization task\n",
    "w_foot_motion = 1.0\n",
    "\n",
    "kp_contact = 10.0               # proportional gain of contact constraint\n",
    "kd_contact = 7.0\n",
    "kp_com = 10.0                   # proportional gain of center of mass task\n",
    "kp_posture = 50.0               # proportional gain of joint posture task\n",
    "kp_foot_motion = 30.0\n",
    "kd_foot_motion = 1000.0"
   ]
  },
  {
   "cell_type": "code",
   "execution_count": 8,
   "metadata": {},
   "outputs": [],
   "source": [
    "path = parentdir + '/models/romeo'\n",
    "robot_urdf = path + '/urdf/romeo.urdf'\n",
    "plane_urdf = parentdir + '/models/plane.urdf'\n",
    "vector = se3.StdVec_StdString()\n",
    "vector.extend(item for item in path)\n",
    "robot = tsid.RobotWrapper(robot_urdf, vector, se3.JointModelFreeFlyer(), False)\n",
    "pinocchio_robot = se3.buildModelFromUrdf(robot_urdf, se3.JointModelFreeFlyer())"
   ]
  },
  {
   "cell_type": "code",
   "execution_count": 9,
   "metadata": {},
   "outputs": [],
   "source": [
    "physicsClient = p.connect(BMODE)#or p.DIRECT for non-graphical version\n",
    "dt = 1./1000.\n",
    "p.setTimeStep(dt)\n",
    "p.setGravity(0,0,-9.81)\n",
    "robot_id = p.loadURDF(robot_urdf,[0,0,0])\n",
    "plane_id = p.loadURDF(plane_urdf,[0,0,-0.88], useFixedBase=1)"
   ]
  },
  {
   "cell_type": "code",
   "execution_count": 10,
   "metadata": {},
   "outputs": [],
   "source": [
    "joint_names = [n for n in robot.model().names]\n",
    "del joint_names[0]\n",
    "del joint_names[0]\n",
    "endeff_names = [\"l_sole\", \"r_sole\"]\n",
    "pbwrapper = PinBulletWrapper(robot_id, pinocchio_robot, joint_names, endeff_names)"
   ]
  },
  {
   "cell_type": "code",
   "execution_count": 11,
   "metadata": {},
   "outputs": [],
   "source": [
    "p.changeDynamics(plane_id, -1, restitution=0.99,\n",
    "                 lateralFriction=1.0, spinningFriction=1.0, rollingFriction=1.0,\n",
    "                 contactStiffness=1e6, contactDamping=2e3)\n",
    "p.resetJointState(robot_id, 20, np.pi/2)\n",
    "p.resetJointState(robot_id, 27, np.pi/2)"
   ]
  },
  {
   "cell_type": "code",
   "execution_count": 12,
   "metadata": {},
   "outputs": [],
   "source": [
    "q, v = pbwrapper.get_state()\n",
    "assert robot.model().existFrame(rf_frame_name)\n",
    "assert robot.model().existFrame(lf_frame_name)"
   ]
  },
  {
   "cell_type": "code",
   "execution_count": 13,
   "metadata": {},
   "outputs": [],
   "source": [
    "t = 0.\n",
    "\n",
    "invdyn = tsid.InverseDynamicsFormulationAccForce(\"tsid\", robot, False)\n",
    "invdyn.computeProblemData(t, q, v)\n",
    "data = invdyn.data()\n",
    "\n",
    "comTask = tsid.TaskComEquality(\"task-com\", robot)\n",
    "comTask.setKp(kp_com * np.matrix(np.ones(3)).transpose())\n",
    "comTask.setKd(2.0 * np.sqrt(kp_com) * np.matrix(np.ones(3)).transpose())\n",
    "invdyn.addMotionTask(comTask, w_com, 1, 0.0)\n",
    "\n",
    "postureTask = tsid.TaskJointPosture(\"task-posture\", robot)\n",
    "postureTask.setKp(kp_posture * np.matrix(np.ones(robot.nv-6)).transpose())\n",
    "postureTask.setKd(2.0 * np.sqrt(kp_posture) * np.matrix(np.ones(robot.nv-6)).transpose())\n",
    "invdyn.addMotionTask(postureTask, w_posture, 1, 0.0)\n",
    "\n",
    "com_ref = Com[0,0].reshape((-1,1))\n",
    "trajCom = tsid.TrajectoryEuclidianConstant(\"traj_com\", com_ref)\n",
    "\n",
    "q_ref = q[7:].copy()\n",
    "q_ref[3] = np.pi/4\n",
    "q_ref[9] = np.pi/4\n",
    "q_ref[2] = -np.pi/6\n",
    "q_ref[8] = -np.pi/6\n",
    "\n",
    "trajPosture = tsid.TrajectoryEuclidianConstant(\"traj_joint\", q_ref)\n",
    "\n",
    "solver = tsid.SolverHQuadProgFast(\"qp solver\")\n",
    "solver.resize(invdyn.nVar, invdyn.nEq, invdyn.nIn)"
   ]
  },
  {
   "cell_type": "code",
   "execution_count": 14,
   "metadata": {},
   "outputs": [],
   "source": [
    "left_foot = RomeoFoot(lf_frame_name, invdyn, robot)\n",
    "right_foot = RomeoFoot(rf_frame_name, invdyn, robot)\n",
    "\n",
    "left_foot.add_contact_task(kp=kp_contact, kd=kd_contact, w_forceRef=w_forceRef, mu=mu)\n",
    "right_foot.add_contact_task(kp=kp_contact, kd=kd_contact, w_forceRef=w_forceRef, mu=mu)\n",
    "\n",
    "left_foot.add_foot_steps(left_foot_steps)\n",
    "right_foot.add_foot_steps(right_foot_steps)"
   ]
  },
  {
   "cell_type": "code",
   "execution_count": 15,
   "metadata": {
    "scrolled": true
   },
   "outputs": [],
   "source": [
    "## move to the initial configuration\n",
    "for i in range(2000):\n",
    "    \n",
    "    sampleCom = trajCom.computeNext()\n",
    "    comTask.setReference(sampleCom)\n",
    "    samplePosture = trajPosture.computeNext()\n",
    "    postureTask.setReference(samplePosture)\n",
    "    HQPData = invdyn.computeProblemData(t, q, v)\n",
    "    \n",
    "    sol = solver.solve(HQPData)\n",
    "    tau = invdyn.getActuatorForces(sol)\n",
    "              \n",
    "    # bullet\n",
    "    pbwrapper.send_joint_command(tau)    \n",
    "    p.stepSimulation()\n",
    "    q, v = pbwrapper.get_state()\n",
    "    t += dt\n",
    "    \n",
    "Com[:,0,2] = robot.com(invdyn.data())[2, 0]"
   ]
  },
  {
   "cell_type": "code",
   "execution_count": 16,
   "metadata": {},
   "outputs": [],
   "source": [
    "left_foot.add_motion_task(kp=kp_foot_motion, kd=kd_foot_motion, w=w_foot_motion)\n",
    "right_foot.add_motion_task(kp=kp_foot_motion, kd=kd_foot_motion, w=w_foot_motion)"
   ]
  },
  {
   "cell_type": "code",
   "execution_count": 17,
   "metadata": {},
   "outputs": [],
   "source": [
    "feet = [left_foot, right_foot]\n",
    "left_foot.lift()\n",
    "left_foot.take_the_next_step()\n",
    "right_foot.take_the_next_step()\n",
    "\n",
    "swing_foot_idx = 0\n",
    "support_foot_idx = 1\n",
    "\n",
    "landing = STEP_DURATION\n",
    "last_landing = STEP_DURATION"
   ]
  },
  {
   "cell_type": "code",
   "execution_count": 18,
   "metadata": {
    "scrolled": false
   },
   "outputs": [],
   "source": [
    "LOG = []\n",
    "SOL = []\n",
    "\n",
    "for i in range(N_SIMULATION):\n",
    "    \n",
    "    data = DotMap()\n",
    "    LOG.append(data)\n",
    "    \n",
    "    swing_foot = feet[swing_foot_idx]\n",
    "    support_foot = feet[support_foot_idx]\n",
    "            \n",
    "    if i > 0 and i % STEP_DURATION == 0:\n",
    "        swing_foot.land()\n",
    "        \n",
    "    if i == landing + DOUBLE_SUPPORT_DURATION:\n",
    "        last_landing = landing\n",
    "        landing += STEP_DURATION\n",
    "        support_foot.lift()\n",
    "        support_foot.take_the_next_step()\n",
    "        swing_foot_idx, support_foot_idx = support_foot_idx, swing_foot_idx\n",
    "        \n",
    "    right_foot.update(dt)\n",
    "    left_foot.update(dt)\n",
    "        \n",
    "    sampleCom = trajCom.computeNext()\n",
    "    sampleCom.pos(Com[i,0].reshape(-1, 1))\n",
    "    sampleCom.vel(Com[i,1].reshape(-1, 1))\n",
    "    sampleCom.acc(Com[i,2].reshape(-1, 1))\n",
    "    samplePosture = trajPosture.computeNext()\n",
    "    postureTask.setReference(samplePosture)\n",
    "    comTask.setReference(sampleCom)\n",
    "    \n",
    "    noise_q = 0 * np.matrix(np.random.randn(q.shape[0])).T\n",
    "    noise_q[:7] = 0\n",
    "    noise_v = 0 * np.matrix(np.random.randn(v.shape[0])).T\n",
    "    noise_v[:6] = 0\n",
    "    \n",
    "    HQPData = invdyn.computeProblemData(t, q + noise_q, v + noise_v)\n",
    "    data.q = q + noise_q\n",
    "    data.v = v + noise_v\n",
    "    data.noise_q = noise_q\n",
    "    data.noise_v = noise_v\n",
    "    \n",
    "    sol_remote = solver.solve(HQPData)\n",
    "    if(sol.status!=0):\n",
    "        print \"QP problem could not be solved! Error code:\", sol.status\n",
    "        break\n",
    "        \n",
    "    SOL.append(sol_remote)\n",
    "    tau = invdyn.getActuatorForces(sol_remote)\n",
    "    dv = invdyn.getAccelerations(sol_remote)\n",
    "    data.tau_remote = tau\n",
    "    data.dv_remote = dv\n",
    "    data.activeset_remote = sol.activeSet\n",
    "    \n",
    "    delayed_idx = DELAYED_IDX[i]\n",
    "    data.delay = i - delayed_idx\n",
    "    \n",
    "    ## use the older data if the latest one is in double support\n",
    "    if last_landing <= delayed_idx < last_landing + DOUBLE_SUPPORT_DURATION:\n",
    "        if i >= last_landing + DOUBLE_SUPPORT_DURATION:\n",
    "            delayed_idx = np.minimum(last_landing - 1, i - LOWDELAY)\n",
    "        \n",
    "    delayed_data = LOG[delayed_idx]\n",
    "    delayed_sol = SOL[delayed_idx]\n",
    "    \n",
    "    if LOCAL:\n",
    "        HQPData = invdyn.computeProblemData(t, q + noise_q, v + noise_v)\n",
    "        sol = solver.solve_local(HQPData, delayed_sol)\n",
    "        tau = invdyn.getActuatorForces(sol)\n",
    "        dv = invdyn.getAccelerations(sol)\n",
    "    else: \n",
    "        solver.compute_slack(HQPData, delayed_sol)\n",
    "        sol = delayed_sol\n",
    "        tau = delayed_data.tau_remote\n",
    "        dv = delayed_data.dv_remote\n",
    "        \n",
    "    data.slack = sol.slack\n",
    "    data.tau = tau\n",
    "    data.dv = dv\n",
    "    data.activeset = sol.activeSet\n",
    "    \n",
    "    # data logging from noiseless measurements\n",
    "    HQPData = invdyn.computeProblemData(t, q, v)\n",
    "    data.com.pos = robot.com(invdyn.data())\n",
    "    data.com.pos_ref = sampleCom.pos()\n",
    "    data.left_foot.pos = left_foot.pos(t,q,v).translation\n",
    "    data.left_foot.pos_ref = left_foot.motion_ref.pos()[:3]\n",
    "    data.right_foot.pos = right_foot.pos(t,q,v).translation\n",
    "    data.right_foot.pos_ref = right_foot.motion_ref.pos()[:3]\n",
    "\n",
    "#     # bullet\n",
    "#     pbwrapper.send_joint_command(tau)\n",
    "# #     if IMPACT_START <= i <= IMPACT_START + IMPACT_DURATION:\n",
    "# #         p.applyExternalForce(robot_id, 0, IMPACT_FORCE, [0,0,0], p.LINK_FRAME)\n",
    "#     p.stepSimulation()\n",
    "#     q, v = pbwrapper.get_state()\n",
    "#     t += dt\n",
    "    \n",
    "    # pinocchip\n",
    "    v_mean = v + 0.5*dt*dv\n",
    "    v += dt*dv\n",
    "    q = se3.integrate(robot.model(), q, dt*v_mean)\n",
    "    pbwrapper.reset_state(q, v)\n",
    "    p.stepSimulation()\n",
    "    t += dt"
   ]
  },
  {
   "cell_type": "code",
   "execution_count": 19,
   "metadata": {},
   "outputs": [],
   "source": [
    "p.disconnect()"
   ]
  },
  {
   "cell_type": "code",
   "execution_count": 20,
   "metadata": {},
   "outputs": [],
   "source": [
    "exp_data = DotMap()\n",
    "file_name = 'walk_'\n",
    "data_path = parentdir + '/data/'\n",
    "\n",
    "if NS3:\n",
    "    exp_data.scenario = SCENARIO\n",
    "    file_name += SCENARIO\n",
    "    data_path += 'ns3/'\n",
    "else:\n",
    "    exp_data.delay = DELAY\n",
    "    exp_data.delay_start = DELAY_START\n",
    "    file_name += str(DELAY)\n",
    "    data_path += 'const/'\n",
    "    \n",
    "exp_data.local = LOCAL\n",
    "\n",
    "if LOCAL:\n",
    "    file_name += '_local'\n",
    "exp_data.impact_start = IMPACT_START\n",
    "exp_data.impact_duration = IMPACT_DURATION\n",
    "exp_data.impact_force = IMPACT_FORCE\n",
    "exp_data.log = LOG"
   ]
  },
  {
   "cell_type": "code",
   "execution_count": 21,
   "metadata": {},
   "outputs": [],
   "source": [
    "if LOGGING:\n",
    "    with open(data_path + file_name + '.pkl', 'wb') as f:\n",
    "        pickle.dump(exp_data, f, pickle.HIGHEST_PROTOCOL)"
   ]
  },
  {
   "cell_type": "code",
   "execution_count": 22,
   "metadata": {
    "scrolled": false
   },
   "outputs": [
    {
     "data": {
      "image/png": "[encoded data removed]",
      "text/plain": [
       "<Figure size 720x432 with 1 Axes>"
      ]
     },
     "metadata": {
      "needs_background": "light"
     },
     "output_type": "display_data"
    }
   ],
   "source": [
    "fig, ax = plt.subplots(1, figsize=(10, 6))\n",
    "time = np.arange(0.0, N_SIMULATION*dt, dt)\n",
    "axes = ['x', 'y', 'z']\n",
    "for i in range(2):\n",
    "    err = np.abs([data.com.pos[i,0]-data.com.pos_ref[i,0] for data in LOG])\n",
    "    ax.plot(time, err, lw=4, label='CoM '+axes[i])\n",
    "    \n",
    "ax.grid()\n",
    "ax.set_xlabel('Time [s]')\n",
    "ax.set_ylabel('CoM tracking error' + ' [m]' )\n",
    "# ax.set_ylim([0, 30])\n",
    "\n",
    "_ = ax.legend(loc='upper center', bbox_to_anchor=(0.5, 1.25),\n",
    "             ncol=3, fancybox=True, shadow=True)"
   ]
  },
  {
   "cell_type": "code",
   "execution_count": 23,
   "metadata": {},
   "outputs": [
    {
     "data": {
      "text/plain": [
       "Text(0,0.5,'Constraint violation')"
      ]
     },
     "execution_count": 23,
     "metadata": {},
     "output_type": "execute_result"
    },
    {
     "data": {
      "image/png": "[encoded data removed]",
      "text/plain": [
       "<Figure size 720x432 with 1 Axes>"
      ]
     },
     "metadata": {
      "needs_background": "light"
     },
     "output_type": "display_data"
    }
   ],
   "source": [
    "fig, ax = plt.subplots(1, figsize=(10, 6))\n",
    "time = np.arange(0.0, N_SIMULATION*dt, dt)\n",
    "axes = ['x', 'y', 'z']\n",
    "slack = [data.slack[0, 0] for data in LOG]\n",
    "ax.plot(time, slack, lw=2)\n",
    "ax.grid()\n",
    "ax.set_xlabel('Time [s]')\n",
    "ax.set_ylabel('Constraint violation' )"
   ]
  },
  {
   "cell_type": "code",
   "execution_count": 24,
   "metadata": {},
   "outputs": [
    {
     "data": {
      "text/plain": [
       "Text(0,0.5,'Delay [ms]')"
      ]
     },
     "execution_count": 24,
     "metadata": {},
     "output_type": "execute_result"
    },
    {
     "data": {
      "image/png": "[encoded data removed]",
      "text/plain": [
       "<Figure size 720x432 with 1 Axes>"
      ]
     },
     "metadata": {
      "needs_background": "light"
     },
     "output_type": "display_data"
    }
   ],
   "source": [
    "fig, ax = plt.subplots(1, figsize=(10, 6))\n",
    "time = np.arange(0.0, N_SIMULATION*dt, dt)\n",
    "axes = ['x', 'y', 'z']\n",
    "delays = [data.delay for data in LOG]\n",
    "ax.plot(time, delays, lw=1, color='k')\n",
    "ax.grid()\n",
    "ax.set_xlabel('Time [s]')\n",
    "ax.set_ylabel('Delay [ms]' )\n"
   ]
  },
  {
   "cell_type": "code",
   "execution_count": 25,
   "metadata": {},
   "outputs": [
    {
     "name": "stdout",
     "output_type": "stream",
     "text": [
      "0.030483000066917648\n",
      "1.6137440126672107\n"
     ]
    }
   ],
   "source": [
    "com_err = [np.linalg.norm(data.com.pos-data.com.pos_ref) for data in LOG]\n",
    "print np.mean(com_err)\n",
    "print np.mean(slack)"
   ]
  }
 ],
 "metadata": {
  "kernelspec": {
   "display_name": "Python 2",
   "language": "python",
   "name": "python2"
  },
  "language_info": {
   "codemirror_mode": {
    "name": "ipython",
    "version": 2
   },
   "file_extension": ".py",
   "mimetype": "text/x-python",
   "name": "python",
   "nbconvert_exporter": "python",
   "pygments_lexer": "ipython2",
   "version": "2.7.12"
  }
 },
 "nbformat": 4,
 "nbformat_minor": 2
}
