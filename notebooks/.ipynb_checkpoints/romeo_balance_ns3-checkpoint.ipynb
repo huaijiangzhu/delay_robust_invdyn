{
 "cells": [
  {
   "cell_type": "code",
   "execution_count": 1,
   "metadata": {},
   "outputs": [],
   "source": [
    "%matplotlib inline\n",
    "%load_ext autoreload\n",
    "%autoreload 2\n",
    "import os\n",
    "import inspect\n",
    "\n",
    "currentdir = os.path.dirname(os.path.abspath(\n",
    "    inspect.getfile(inspect.currentframe())))\n",
    "parentdir = os.path.dirname(currentdir)\n",
    "srcdir = parentdir + '/src'\n",
    "os.sys.path.insert(1, srcdir)\n",
    "\n",
    "import numpy as np\n",
    "\n",
    "import time\n",
    "import pybullet as p\n",
    "import pybullet_data\n",
    "import pinocchio as se3\n",
    "import matplotlib\n",
    "import tsid\n",
    "import numpy.matlib as matlib\n",
    "from numpy import nan\n",
    "from numpy.linalg import norm as norm\n",
    "import commands\n",
    "import pandas as pd\n",
    "\n",
    "\n",
    "import matplotlib.pyplot as plt\n",
    "from pinbullet_wrapper import PinBulletWrapper\n",
    "from pinocchio.robot_wrapper import RobotWrapper\n",
    "from pinocchio.utils import zero"
   ]
  },
  {
   "cell_type": "code",
   "execution_count": 2,
   "metadata": {},
   "outputs": [],
   "source": [
    "font = {'family' : 'serif',\n",
    "        'size'   : 22}\n",
    "\n",
    "matplotlib.rc('font', **font)\n",
    "np.set_printoptions(precision=3, linewidth=200, suppress=True)"
   ]
  },
  {
   "cell_type": "code",
   "execution_count": 3,
   "metadata": {},
   "outputs": [],
   "source": [
    "N_SIMULATION = 10000\n",
    "LOCAL = True\n",
    "SCENARIO = 'building'\n",
    "BMODE = p.DIRECT"
   ]
  },
  {
   "cell_type": "code",
   "execution_count": 4,
   "metadata": {},
   "outputs": [],
   "source": [
    "td = np.load('td_'+ SCENARIO +'.npy')\n",
    "td = np.tile(td, int((N_SIMULATION + 1.0)/len(td)) + 1)\n",
    "td = td[:N_SIMULATION]\n",
    "time_received = np.array([i + td[i] for i in range(N_SIMULATION)])"
   ]
  },
  {
   "cell_type": "code",
   "execution_count": 5,
   "metadata": {},
   "outputs": [
    {
     "name": "stdout",
     "output_type": "stream",
     "text": [
      "############################################################\n",
      "############# Test Task Space Inverse Dynamics #############\n",
      "############################################################ \n",
      "\n"
     ]
    }
   ],
   "source": [
    "LINE_WIDTH = 60\n",
    "print \"\".center(LINE_WIDTH,'#')\n",
    "print \" Test Task Space Inverse Dynamics \".center(LINE_WIDTH, '#')\n",
    "print \"\".center(LINE_WIDTH,'#'), '\\n'\n",
    "\n",
    "lxp = 0.14                          # foot length in positive x direction\n",
    "lxn = 0.077                         # foot length in negative x direction\n",
    "lyp = 0.069                         # foot length in positive y direction\n",
    "lyn = 0.069                         # foot length in negative y direction\n",
    "lz = 0.105                          # foot sole height with respect to ankle joint\n",
    "mu = 1.0                            # friction coefficient\n",
    "fMin = 5.0                          # minimum normal force\n",
    "fMax = 1000.0                       # maximum normal force\n",
    "rf_frame_name = \"RAnkleRoll\"        # right foot frame name\n",
    "lf_frame_name = \"LAnkleRoll\"        # left foot frame name\n",
    "contactNormal = np.matrix([0., 0., 1.]).T   # direction of the normal to the contact surface\n",
    "\n",
    "w_com = 1.0                     # weight of center of mass task\n",
    "w_posture = 1e-3                # weight of joint posture task\n",
    "w_forceRef = 1e-5               # weight of force regularization task\n",
    "\n",
    "kp_contact = 10.0               # proportional gain of contact constraint\n",
    "kp_com = 10.0                   # proportional gain of center of mass task\n",
    "kp_posture = 10.0               # proportional gain of joint posture task\n",
    "\n",
    "dt = 0.001                      # controller time step\n",
    "PRINT_N = 500                   # print every PRINT_N time steps\n",
    "DISPLAY_N = 25                  # update robot configuration in viwewer every DISPLAY_N time steps\n",
    "N_SIMULATION = 10000             # number of time steps simulated"
   ]
  },
  {
   "cell_type": "code",
   "execution_count": 6,
   "metadata": {},
   "outputs": [],
   "source": [
    "path = parentdir + '/models/romeo'\n",
    "robot_urdf = path + '/urdf/romeo.urdf'\n",
    "plane_urdf = parentdir + '/models/plane.urdf'\n",
    "vector = se3.StdVec_StdString()\n",
    "vector.extend(item for item in path)\n",
    "robot = tsid.RobotWrapper(robot_urdf, vector, se3.JointModelFreeFlyer(), False)\n",
    "robot_ = se3.buildModelFromUrdf(robot_urdf, se3.JointModelFreeFlyer())\n",
    "srdf = path + '/srdf/romeo_collision.srdf'"
   ]
  },
  {
   "cell_type": "code",
   "execution_count": 7,
   "metadata": {},
   "outputs": [],
   "source": [
    "physicsClient = p.connect(BMODE)#or p.DIRECT for non-graphical version\n",
    "urdfRoot = pybullet_data.getDataPath()\n",
    "p.setAdditionalSearchPath(urdfRoot)\n",
    "dt = 1./1000.\n",
    "p.setTimeStep(dt)\n",
    "p.setGravity(0,0,-9.81)\n",
    "robot_id = p.loadURDF(robot_urdf,[0,0,0])\n",
    "plane_id = p.loadURDF(plane_urdf,[0,0,-0.88], useFixedBase=True)"
   ]
  },
  {
   "cell_type": "code",
   "execution_count": 8,
   "metadata": {},
   "outputs": [],
   "source": [
    "joint_names = [n for n in robot.model().names]\n",
    "del joint_names[0]\n",
    "del joint_names[0]\n",
    "endeff_names = [\"l_sole\", \"r_sole\"]"
   ]
  },
  {
   "cell_type": "code",
   "execution_count": 9,
   "metadata": {},
   "outputs": [],
   "source": [
    "p.changeDynamics(plane_id, -1, restitution=0.99,\n",
    "                 lateralFriction=1.0, spinningFriction=1.0, rollingFriction=1.0,\n",
    "                 contactStiffness=1e6, contactDamping=2e3)\n",
    "p.resetJointState(robot_id, 20, np.pi/3)\n",
    "p.resetJointState(robot_id, 27, np.pi/3)\n",
    "pbwrapper = PinBulletWrapper(robot_id, robot_, joint_names, endeff_names)"
   ]
  },
  {
   "cell_type": "code",
   "execution_count": 10,
   "metadata": {},
   "outputs": [],
   "source": [
    "q, v = pbwrapper.get_state()\n",
    "assert robot.model().existFrame(rf_frame_name)\n",
    "assert robot.model().existFrame(lf_frame_name)"
   ]
  },
  {
   "cell_type": "code",
   "execution_count": 11,
   "metadata": {},
   "outputs": [
    {
     "data": {
      "text/plain": [
       "True"
      ]
     },
     "execution_count": 11,
     "metadata": {},
     "output_type": "execute_result"
    }
   ],
   "source": [
    "t = 0.0                         # time\n",
    "invdyn = tsid.InverseDynamicsFormulationAccForce(\"tsid\", robot, False)\n",
    "invdyn.computeProblemData(t, q, v)\n",
    "data = invdyn.data()\n",
    "contact_Point = np.matrix(np.ones((3,4)) * lz)\n",
    "contact_Point[0, :] = [-lxn, -lxn, lxp, lxp]\n",
    "contact_Point[1, :] = [-lyn, lyp, -lyn, lyp]\n",
    "\n",
    "contactRF =tsid.Contact6d(\"contact_rfoot\", robot, rf_frame_name, contact_Point, contactNormal, mu, fMin, fMax, w_forceRef)\n",
    "contactRF.setKp(kp_contact * matlib.ones(6).T)\n",
    "contactRF.setKd(2.0 * np.sqrt(kp_contact) * matlib.ones(6).T)\n",
    "H_rf_ref = robot.position(data, robot.model().getJointId(rf_frame_name))\n",
    "contactRF.setReference(H_rf_ref)\n",
    "invdyn.addRigidContact(contactRF)\n",
    "\n",
    "contactLF =tsid.Contact6d(\"contact_lfoot\", robot, lf_frame_name, contact_Point, contactNormal, mu, fMin, fMax, w_forceRef)\n",
    "contactLF.setKp(kp_contact * matlib.ones(6).T)\n",
    "contactLF.setKd(2.0 * np.sqrt(kp_contact) * matlib.ones(6).T)\n",
    "H_lf_ref = robot.position(data, robot.model().getJointId(lf_frame_name))\n",
    "contactLF.setReference(H_lf_ref)\n",
    "invdyn.addRigidContact(contactLF)"
   ]
  },
  {
   "cell_type": "code",
   "execution_count": 12,
   "metadata": {},
   "outputs": [],
   "source": [
    "# index 6 is the lf\n",
    "# index 13 is the rf"
   ]
  },
  {
   "cell_type": "code",
   "execution_count": 13,
   "metadata": {},
   "outputs": [],
   "source": [
    "comTask = tsid.TaskComEquality(\"task-com\", robot)\n",
    "comTask.setKp(kp_com * matlib.ones(3).T)\n",
    "comTask.setKd(2.0 * np.sqrt(kp_com) * matlib.ones(3).T)\n",
    "invdyn.addMotionTask(comTask, w_com, 1, 0.0)\n",
    "\n",
    "postureTask = tsid.TaskJointPosture(\"task-posture\", robot)\n",
    "postureTask.setKp(kp_posture * matlib.ones(robot.nv-6).T)\n",
    "postureTask.setKd(2.0 * np.sqrt(kp_posture) * matlib.ones(robot.nv-6).T)\n",
    "invdyn.addMotionTask(postureTask, w_posture, 1, 0.0)\n",
    "\n",
    "com_ref = robot.com(data)\n",
    "trajCom = tsid.TrajectoryEuclidianConstant(\"traj_com\", com_ref)\n",
    "\n",
    "q_ref = q[7:]\n",
    "trajPosture = tsid.TrajectoryEuclidianConstant(\"traj_joint\", q_ref)\n",
    "\n",
    "solver = tsid.SolverHQuadProgFast(\"qp solver\")\n",
    "solver.resize(invdyn.nVar, invdyn.nEq, invdyn.nIn)\n",
    "\n",
    "com_pos = matlib.empty((3, N_SIMULATION))*nan\n",
    "com_vel = matlib.empty((3, N_SIMULATION))*nan\n",
    "com_acc = matlib.empty((3, N_SIMULATION))*nan\n",
    "\n",
    "com_pos_ref = matlib.empty((3, N_SIMULATION))*nan\n",
    "com_vel_ref = matlib.empty((3, N_SIMULATION))*nan\n",
    "com_acc_ref = matlib.empty((3, N_SIMULATION))*nan\n",
    "com_acc_des = matlib.empty((3, N_SIMULATION))*nan # acc_des = acc_ref - Kp*pos_err - Kd*vel_err"
   ]
  },
  {
   "cell_type": "code",
   "execution_count": 14,
   "metadata": {},
   "outputs": [],
   "source": [
    "for i in range(2000):\n",
    "    \n",
    "    sampleCom = trajCom.computeNext()\n",
    "    comTask.setReference(sampleCom)\n",
    "    samplePosture = trajPosture.computeNext()\n",
    "    postureTask.setReference(samplePosture)\n",
    "    HQPData = invdyn.computeProblemData(t, q, v)\n",
    "    \n",
    "    sol = solver.solve(HQPData)\n",
    "    tau = invdyn.getActuatorForces(sol)\n",
    "    dv = invdyn.getAccelerations(sol)                 \n",
    "    if(sol.status!=0):\n",
    "        print \"QP problem could not be solved! Error code:\", sol.status\n",
    "        break\n",
    "              \n",
    "    # bullet\n",
    "    pbwrapper.send_joint_command(tau)    \n",
    "    p.stepSimulation()\n",
    "    q, v = pbwrapper.get_state()\n",
    "    t += dt\n",
    "    \n",
    "com_ref = robot.com(invdyn.data())\n",
    "trajCom = tsid.TrajectoryEuclidianConstant(\"traj_com\", com_ref)"
   ]
  },
  {
   "cell_type": "code",
   "execution_count": 15,
   "metadata": {},
   "outputs": [],
   "source": [
    "noise_q = 5e-3 * np.matrix(np.random.randn(q.shape[0])).T\n",
    "noise_q[:6] = 0\n",
    "\n",
    "noise_v = 1e-1 * np.matrix(np.random.randn(v.shape[0])).T\n",
    "noise_v[:6] = 0"
   ]
  },
  {
   "cell_type": "code",
   "execution_count": 16,
   "metadata": {},
   "outputs": [],
   "source": [
    "SOL = []\n",
    "SOL_local = []\n",
    "TAU = []\n",
    "DV = []\n",
    "idx_most_recent_comm = 0\n",
    "T_LOCAL = []\n",
    "T_FULL = []\n",
    "IDX_MOST_RECENT = []\n",
    "\n",
    "for i in range(N_SIMULATION):\n",
    "    \n",
    "    sampleCom = trajCom.computeNext()\n",
    "    comTask.setReference(sampleCom)\n",
    "    samplePosture = trajPosture.computeNext()\n",
    "    postureTask.setReference(samplePosture)\n",
    "    \n",
    "    HQPData_noiseless = invdyn.computeProblemData(t, q, v)\n",
    "    HQPData = invdyn.computeProblemData(t, q+noise_q, v+noise_v)\n",
    "    time_start = time.time()\n",
    "    sol = solver.solve(HQPData)\n",
    "    tau = invdyn.getActuatorForces(sol)\n",
    "    dv = invdyn.getAccelerations(sol)\n",
    "    time_spent = time.time() - time_start\n",
    "    T_FULL.append(1000*time_spent)\n",
    "    \n",
    "    SOL.append(sol)\n",
    "    TAU.append(tau)\n",
    "    DV.append(dv)\n",
    "    \n",
    "    # find the latest command arrived before the current time\n",
    "    idx_arrived = np.nonzero(time_received <= i)[0]\n",
    "    if idx_arrived.size > 0:\n",
    "        idx_most_recent_comm = idx_arrived.max()\n",
    "    IDX_MOST_RECENT.append(idx_most_recent_comm)\n",
    "    \n",
    "    if LOCAL:\n",
    "        time_start_local = time.time()\n",
    "        sol = solver.solve_local(HQPData, SOL[idx_most_recent_comm])\n",
    "        SOL_local.append(sol)\n",
    "        tau = invdyn.getActuatorForces(sol)\n",
    "        dv = invdyn.getAccelerations(sol)\n",
    "        time_spent_local = time.time() - time_start_local\n",
    "        T_LOCAL.append(1000*time_spent_local)\n",
    "    else: \n",
    "        tau = TAU[idx_most_recent_comm]\n",
    "        dv = DV[idx_most_recent_comm]\n",
    "                 \n",
    "    if(sol.status!=0):\n",
    "        print \"QP problem could not be solved! Error code:\", sol.status\n",
    "        break\n",
    "              \n",
    "    pbwrapper.send_joint_command(tau)\n",
    "        \n",
    "    if 3000<=i<=3100:\n",
    "        p.applyExternalForce(robot_id, 0, \n",
    "                             [-100, 0, 0], \n",
    "                             [0,0,0], \n",
    "                             p.LINK_FRAME)\n",
    "    \n",
    "    HQPData = invdyn.computeProblemData(t, q, v) \n",
    "    com_pos[:,i] = robot.com(invdyn.data())\n",
    "    com_vel[:,i] = robot.com_vel(invdyn.data())\n",
    "    com_acc[:,i] = comTask.getAcceleration(dv)\n",
    "    com_pos_ref[:,i] = sampleCom.pos()\n",
    "    com_vel_ref[:,i] = sampleCom.vel()\n",
    "    com_acc_ref[:,i] = sampleCom.acc()\n",
    "    com_acc_des[:,i] = comTask.getDesiredAcceleration\n",
    "    \n",
    "    # bullet\n",
    "    \n",
    "    p.stepSimulation()\n",
    "    q, v = pbwrapper.get_state()\n",
    "    t += dt\n"
   ]
  },
  {
   "cell_type": "code",
   "execution_count": 17,
   "metadata": {},
   "outputs": [],
   "source": [
    "delay = np.zeros(N_SIMULATION)\n",
    "for i, idx in enumerate(IDX_MOST_RECENT):\n",
    "    delay[i] = i - idx"
   ]
  },
  {
   "cell_type": "code",
   "execution_count": 18,
   "metadata": {},
   "outputs": [],
   "source": [
    "p.disconnect()"
   ]
  },
  {
   "cell_type": "markdown",
   "metadata": {},
   "source": [
    "### CoM error"
   ]
  },
  {
   "cell_type": "code",
   "execution_count": 19,
   "metadata": {},
   "outputs": [
    {
     "data": {
      "image/png": "[encoded data removed]",
      "text/plain": [
       "<Figure size 720x432 with 1 Axes>"
      ]
     },
     "metadata": {
      "needs_background": "light"
     },
     "output_type": "display_data"
    }
   ],
   "source": [
    "fig, ax = plt.subplots(1, figsize=(10, 6))\n",
    "time = np.arange(0.0, N_SIMULATION*dt, dt)\n",
    "axes = ['x', 'y', 'z']\n",
    "for i in range(3):\n",
    "    err = np.abs(com_pos[i, :].A1 - com_pos_ref[i,:].A1)\n",
    "    ax.plot(time, err, lw=4, label='CoM '+axes[i])\n",
    "    \n",
    "ax.axvspan(3, 3.1, alpha=0.5, color='red')\n",
    "ax.grid()\n",
    "ax.set_xlabel('Time [s]')\n",
    "ax.set_ylabel('CoM tracking error' + ' [m]' )\n",
    "# ax.set_ylim([0, 30])\n",
    "\n",
    "\n",
    "_ = ax.legend(loc='upper center', bbox_to_anchor=(0.5, 1.25),\n",
    "             ncol=3, fancybox=True, shadow=True)\n",
    "\n",
    "file_name = 'com_err_'+SCENARIO\n",
    "if LOCAL:\n",
    "    file_name = file_name+'_local'\n",
    "file_name = file_name + '.eps'\n",
    "fig.savefig(file_name, bbox_inches='tight')"
   ]
  },
  {
   "cell_type": "code",
   "execution_count": 24,
   "metadata": {},
   "outputs": [
    {
     "data": {
      "image/png": "[encoded data removed]",
      "text/plain": [
       "<Figure size 720x432 with 2 Axes>"
      ]
     },
     "metadata": {
      "needs_background": "light"
     },
     "output_type": "display_data"
    }
   ],
   "source": [
    "fig, ax = plt.subplots(2, figsize=(10, 6))\n",
    "time = np.arange(0.0, N_SIMULATION*dt, dt)\n",
    "axes = ['x', 'y', 'z']\n",
    "for i in range(0, 1):\n",
    "    delta = [sol.delta[i, 0] for sol in SOL_local]\n",
    "    ax[0].plot(time, delta, lw=1, label='Constr. '+ str(i+1))\n",
    "# ax[0].axvspan(3, 3.1, alpha=0.5, color='red')\n",
    "ax[0].grid()\n",
    "ax[0].set_xlabel('Time [s]')\n",
    "ax[0].set_ylabel('Constr. margin' )\n",
    "ax[0].set_ylim(-100, 100)\n",
    "\n",
    "# _ = ax[0].legend(loc='upper center', bbox_to_anchor=(0.5, 1.25),\n",
    "#              ncol=3, fancybox=True, shadow=True)\n",
    "\n",
    "ax[1].plot(time, delay, lw=1, c='k', ls='-', drawstyle='steps')\n",
    "ax[1].grid()\n",
    "ax[1].set_xlabel('Time [s]')\n",
    "ax[1].set_ylabel('Delay [ms]' )\n",
    "ax[1].ticklabel_format(style='sci',scilimits=(-3,4), axis='y')\n",
    "\n",
    "file_name = 'com_err_'+SCENARIO\n",
    "if LOCAL:\n",
    "    file_name = file_name+'_local'\n",
    "file_name = file_name + '.eps'\n",
    "fig.savefig(file_name, bbox_inches='tight')\n"
   ]
  },
  {
   "cell_type": "markdown",
   "metadata": {},
   "source": [
    "### RTT"
   ]
  },
  {
   "cell_type": "code",
   "execution_count": 21,
   "metadata": {},
   "outputs": [],
   "source": [
    "# fig, ax = plt.subplots(1, figsize=(10, 6))\n",
    "# ax.plot(td[0:10000], lw=1, c='k', ls='-', drawstyle='steps')\n",
    "# # ax[0].scatter(rtt_all, pos_error_all, marker='x', s=100, c='k')\n",
    "# # ax[0].scatter(0.966, pos_error_all[0], marker='D', s=200, c='k', label='ns3 simulated delay = 0.966 ms')\n",
    "\n",
    "# ax.grid()\n",
    "# ax.set_xlabel('Time [s]')\n",
    "# ax.set_ylabel('Round-trip time [ms]' )\n",
    "# ax.ticklabel_format(style='sci',scilimits=(-2,3), axis='y')\n",
    "# # _ = ax[0].legend(loc='upper center', bbox_to_anchor=(0.5, 1.25),\n",
    "# #              ncol=3, fancybox=True, shadow=True)\n",
    "\n",
    "# fig.savefig('rtt_'+SCENARIO+'.eps', bbox_inches='tight')"
   ]
  },
  {
   "cell_type": "code",
   "execution_count": 22,
   "metadata": {},
   "outputs": [],
   "source": [
    "# print SCENARIO\n",
    "# print np.mean(T_FULL)\n",
    "# print np.mean(T_LOCAL)\n",
    "# print np.max(T_FULL)\n",
    "# print np.max(T_LOCAL)"
   ]
  }
 ],
 "metadata": {
  "kernelspec": {
   "display_name": "Python 2",
   "language": "python",
   "name": "python2"
  },
  "language_info": {
   "codemirror_mode": {
    "name": "ipython",
    "version": 2
   },
   "file_extension": ".py",
   "mimetype": "text/x-python",
   "name": "python",
   "nbconvert_exporter": "python",
   "pygments_lexer": "ipython2",
   "version": "2.7.12"
  }
 },
 "nbformat": 4,
 "nbformat_minor": 2
}
