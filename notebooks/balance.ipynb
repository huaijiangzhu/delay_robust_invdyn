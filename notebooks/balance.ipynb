{
 "cells": [
  {
   "cell_type": "code",
   "execution_count": 2,
   "metadata": {},
   "outputs": [
    {
     "name": "stdout",
     "output_type": "stream",
     "text": [
      "The autoreload extension is already loaded. To reload it, use:\n",
      "  %reload_ext autoreload\n"
     ]
    }
   ],
   "source": [
    "%matplotlib inline\n",
    "%load_ext autoreload\n",
    "%autoreload 2\n",
    "import os\n",
    "import inspect\n",
    "\n",
    "currentdir = os.path.dirname(os.path.abspath(\n",
    "    inspect.getfile(inspect.currentframe())))\n",
    "parentdir = os.path.dirname(currentdir)\n",
    "srcdir = parentdir + '/src'\n",
    "os.sys.path.insert(1, srcdir)\n",
    "\n",
    "import numpy as np\n",
    "\n",
    "import time\n",
    "import pybullet as p\n",
    "import pybullet_data\n",
    "import pinocchio as se3\n",
    "import matplotlib\n",
    "import tsid\n",
    "import numpy.matlib as matlib\n",
    "from numpy import nan\n",
    "from numpy.linalg import norm as norm\n",
    "import commands\n",
    "\n",
    "import matplotlib.pyplot as plt\n",
    "from pinbullet_wrapper import PinBulletWrapper\n",
    "from pinocchio.robot_wrapper import RobotWrapper\n",
    "from pinocchio.utils import zero\n",
    "\n",
    "from dotmap import DotMap\n",
    "import pickle"
   ]
  },
  {
   "cell_type": "code",
   "execution_count": 3,
   "metadata": {},
   "outputs": [],
   "source": [
    "font = {'family' : 'serif',\n",
    "        'size'   : 22}\n",
    "\n",
    "matplotlib.rc('font', **font)\n",
    "np.set_printoptions(precision=3, linewidth=200, suppress=True)"
   ]
  },
  {
   "cell_type": "code",
   "execution_count": 4,
   "metadata": {},
   "outputs": [],
   "source": [
    "BMODE = p.DIRECT\n",
    "LOGGING = False\n",
    "LOCAL = False\n",
    "\n",
    "N_SIMULATION = 5000\n",
    "\n",
    "DELAY = 1\n",
    "NS3 = True\n",
    "SCENARIO = 'building'\n",
    "IDX = 5\n",
    "\n",
    "DELAY_START = 0\n",
    "\n",
    "IMPACT_START = 1350\n",
    "IMPACT_DURATION = 200\n",
    "IMPACT_FORCE = [100, 0, 0]"
   ]
  },
  {
   "cell_type": "code",
   "execution_count": 5,
   "metadata": {},
   "outputs": [],
   "source": [
    "# compute delayed indices\n",
    "DELAYED_IDX = []\n",
    "\n",
    "if NS3:\n",
    "    ns3_path = parentdir + '/data/ns3/' + SCENARIO + '/delayed_idx/'\n",
    "    DELAYED_IDX = np.load(ns3_path + str(IDX) +'.npy')\n",
    "    \n",
    "else:\n",
    "    for i in range(N_SIMULATION):\n",
    "        if i >= DELAY_START:\n",
    "            delayed_idx = np.maximum(i-DELAY, DELAY_START)\n",
    "        else:\n",
    "            delayed_idx = i\n",
    "        DELAYED_IDX.append(delayed_idx)"
   ]
  },
  {
   "cell_type": "code",
   "execution_count": 6,
   "metadata": {},
   "outputs": [
    {
     "name": "stdout",
     "output_type": "stream",
     "text": [
      "############################################################\n",
      "############# Test Task Space Inverse Dynamics #############\n",
      "############################################################ \n",
      "\n"
     ]
    }
   ],
   "source": [
    "LINE_WIDTH = 60\n",
    "print \"\".center(LINE_WIDTH,'#')\n",
    "print \" Test Task Space Inverse Dynamics \".center(LINE_WIDTH, '#')\n",
    "print \"\".center(LINE_WIDTH,'#'), '\\n'\n",
    "\n",
    "lxp = 0.14                          # foot length in positive x direction\n",
    "lxn = 0.077                         # foot length in negative x direction\n",
    "lyp = 0.069                         # foot length in positive y direction\n",
    "lyn = 0.069                         # foot length in negative y direction\n",
    "lz = 0.105                          # foot sole height with respect to ankle joint\n",
    "mu = 1.0                            # friction coefficient\n",
    "fMin = 5.0                          # minimum normal force\n",
    "fMax = 1000.0                       # maximum normal force\n",
    "rf_frame_name = \"RAnkleRoll\"        # right foot frame name\n",
    "lf_frame_name = \"LAnkleRoll\"        # left foot frame name\n",
    "contactNormal = np.matrix([0., 0., 1.]).T   # direction of the normal to the contact surface\n",
    "\n",
    "w_com = 1.0                     # weight of center of mass task\n",
    "w_posture = 1e-3                # weight of joint posture task\n",
    "w_forceRef = 1e-5               # weight of force regularization task\n",
    "\n",
    "kp_contact = 10.0               # proportional gain of contact constraint\n",
    "kp_com = 10.0                   # proportional gain of center of mass task\n",
    "kp_posture = 30.0               # proportional gain of joint posture task\n",
    "\n",
    "sigma_q = 1e-2\n",
    "sigma_v = 1e-2"
   ]
  },
  {
   "cell_type": "code",
   "execution_count": 7,
   "metadata": {},
   "outputs": [],
   "source": [
    "path = parentdir + '/models/romeo'\n",
    "robot_urdf = path + '/urdf/romeo.urdf'\n",
    "plane_urdf = parentdir + '/models/plane.urdf'\n",
    "vector = se3.StdVec_StdString()\n",
    "vector.extend(item for item in path)\n",
    "robot = tsid.RobotWrapper(robot_urdf, vector, se3.JointModelFreeFlyer(), False)\n",
    "pinocchio_robot = se3.buildModelFromUrdf(robot_urdf, se3.JointModelFreeFlyer())"
   ]
  },
  {
   "cell_type": "code",
   "execution_count": 8,
   "metadata": {},
   "outputs": [],
   "source": [
    "physicsClient = p.connect(BMODE)\n",
    "dt = 1e-3\n",
    "p.setTimeStep(dt)\n",
    "p.setGravity(0,0,-9.81)\n",
    "robot_id = p.loadURDF(robot_urdf,[0,0,0])\n",
    "plane_id = p.loadURDF(plane_urdf,[0,0,-0.88], useFixedBase=True)"
   ]
  },
  {
   "cell_type": "code",
   "execution_count": 9,
   "metadata": {},
   "outputs": [],
   "source": [
    "joint_names = [n for n in robot.model().names]\n",
    "del joint_names[0]\n",
    "del joint_names[0]\n",
    "endeff_names = [\"l_sole\", \"r_sole\"]\n",
    "pbwrapper = PinBulletWrapper(robot_id, pinocchio_robot, joint_names, endeff_names)"
   ]
  },
  {
   "cell_type": "code",
   "execution_count": 10,
   "metadata": {},
   "outputs": [],
   "source": [
    "p.changeDynamics(plane_id, -1, restitution=0.99,\n",
    "                 lateralFriction=1.0, spinningFriction=1.0, rollingFriction=1.0,\n",
    "                 contactStiffness=1e6, contactDamping=2e3)\n",
    "p.resetJointState(robot_id, 20, np.pi/3)\n",
    "p.resetJointState(robot_id, 27, np.pi/3)"
   ]
  },
  {
   "cell_type": "code",
   "execution_count": 11,
   "metadata": {},
   "outputs": [],
   "source": [
    "q, v = pbwrapper.get_state()\n",
    "assert robot.model().existFrame(rf_frame_name)\n",
    "assert robot.model().existFrame(lf_frame_name)"
   ]
  },
  {
   "cell_type": "code",
   "execution_count": 12,
   "metadata": {},
   "outputs": [
    {
     "data": {
      "text/plain": [
       "True"
      ]
     },
     "execution_count": 12,
     "metadata": {},
     "output_type": "execute_result"
    }
   ],
   "source": [
    "t = 0.0                         # time\n",
    "invdyn = tsid.InverseDynamicsFormulationAccForce(\"tsid\", robot, False)\n",
    "invdyn.computeProblemData(t, q, v)\n",
    "data = invdyn.data()\n",
    "contact_Point = np.matrix(np.ones((3,4)) * lz)\n",
    "contact_Point[0, :] = [-lxn, -lxn, lxp, lxp]\n",
    "contact_Point[1, :] = [-lyn, lyp, -lyn, lyp]\n",
    "\n",
    "contactRF =tsid.Contact6d(\"contact_rfoot\", robot, rf_frame_name, contact_Point, contactNormal, mu, fMin, fMax, w_forceRef)\n",
    "contactRF.setKp(kp_contact * matlib.ones(6).T)\n",
    "contactRF.setKd(2.0 * np.sqrt(kp_contact) * matlib.ones(6).T)\n",
    "H_rf_ref = robot.position(data, robot.model().getJointId(rf_frame_name))\n",
    "contactRF.setReference(H_rf_ref)\n",
    "invdyn.addRigidContact(contactRF)\n",
    "\n",
    "contactLF =tsid.Contact6d(\"contact_lfoot\", robot, lf_frame_name, contact_Point, contactNormal, mu, fMin, fMax, w_forceRef)\n",
    "contactLF.setKp(kp_contact * matlib.ones(6).T)\n",
    "contactLF.setKd(2.0 * np.sqrt(kp_contact) * matlib.ones(6).T)\n",
    "H_lf_ref = robot.position(data, robot.model().getJointId(lf_frame_name))\n",
    "contactLF.setReference(H_lf_ref)\n",
    "invdyn.addRigidContact(contactLF)"
   ]
  },
  {
   "cell_type": "code",
   "execution_count": 13,
   "metadata": {},
   "outputs": [],
   "source": [
    "comTask = tsid.TaskComEquality(\"task-com\", robot)\n",
    "comTask.setKp(kp_com * matlib.ones(3).T)\n",
    "comTask.setKd(2.0 * np.sqrt(kp_com) * matlib.ones(3).T)\n",
    "invdyn.addMotionTask(comTask, w_com, 1, 0.0)\n",
    "\n",
    "postureTask = tsid.TaskJointPosture(\"task-posture\", robot)\n",
    "postureTask.setKp(kp_posture * matlib.ones(robot.nv-6).T)\n",
    "postureTask.setKd(2.0 * np.sqrt(kp_posture) * matlib.ones(robot.nv-6).T)\n",
    "invdyn.addMotionTask(postureTask, w_posture, 1, 0.0)\n",
    "\n",
    "com_ref = robot.com(data)\n",
    "trajCom = tsid.TrajectoryEuclidianConstant(\"traj_com\", com_ref)\n",
    "\n",
    "q_ref = q[7:]\n",
    "trajPosture = tsid.TrajectoryEuclidianConstant(\"traj_joint\", q_ref)\n",
    "\n",
    "solver = tsid.SolverHQuadProgFast(\"qp solver\")\n",
    "solver.resize(invdyn.nVar, invdyn.nEq, invdyn.nIn)"
   ]
  },
  {
   "cell_type": "code",
   "execution_count": 14,
   "metadata": {},
   "outputs": [
    {
     "name": "stdout",
     "output_type": "stream",
     "text": [
      "QP problem could not be solved! Error code: 25860\n"
     ]
    }
   ],
   "source": [
    "for i in range(2000):\n",
    "    \n",
    "    sampleCom = trajCom.computeNext()\n",
    "    comTask.setReference(sampleCom)\n",
    "    samplePosture = trajPosture.computeNext()\n",
    "    postureTask.setReference(samplePosture)\n",
    "    HQPData = invdyn.computeProblemData(t, q, v)\n",
    "    \n",
    "    sol = solver.solve(HQPData)\n",
    "    tau = invdyn.getActuatorForces(sol)\n",
    "    dv = invdyn.getAccelerations(sol)                 \n",
    "    if(sol.status!=0):\n",
    "        print \"QP problem could not be solved! Error code:\", sol.status\n",
    "        break\n",
    "              \n",
    "    # bullet\n",
    "    pbwrapper.send_joint_command(tau)    \n",
    "    p.stepSimulation()\n",
    "    q, v = pbwrapper.get_state()\n",
    "    t += dt\n",
    "    \n",
    "com_ref = robot.com(invdyn.data())\n",
    "trajCom = tsid.TrajectoryEuclidianConstant(\"traj_com\", com_ref)"
   ]
  },
  {
   "cell_type": "code",
   "execution_count": 15,
   "metadata": {},
   "outputs": [
    {
     "name": "stdout",
     "output_type": "stream",
     "text": [
      "QP problem could not be solved! Error code: 25860\n"
     ]
    }
   ],
   "source": [
    "LOG = []\n",
    "SOL = []\n",
    "\n",
    "for i in range(0, N_SIMULATION):\n",
    "    \n",
    "    data = DotMap()\n",
    "    LOG.append(data)\n",
    "    sampleCom = trajCom.computeNext()\n",
    "    comTask.setReference(sampleCom)\n",
    "    samplePosture = trajPosture.computeNext()\n",
    "    postureTask.setReference(samplePosture)\n",
    "    \n",
    "    noise_q = sigma_q * np.matrix(np.random.randn(q.shape[0])).T\n",
    "    noise_q[:7] = 0\n",
    "\n",
    "    noise_v = sigma_v * np.matrix(np.random.randn(v.shape[0])).T\n",
    "    noise_v[:6] = 0\n",
    "    \n",
    "    HQPData = invdyn.computeProblemData(t, q+noise_q, v+noise_v)\n",
    "    \n",
    "    data.q = q + noise_q\n",
    "    data.v = v + noise_v\n",
    "    data.noise_q = noise_q\n",
    "    data.noise_v = noise_v\n",
    "    \n",
    "    sol = solver.solve(HQPData)\n",
    "    if(sol.status!=0):\n",
    "        print \"QP problem could not be solved! Error code:\", sol.status\n",
    "        break\n",
    "    SOL.append(sol)\n",
    "    tau = invdyn.getActuatorForces(sol)\n",
    "    data.tau_remote = tau\n",
    "    \n",
    "    delayed_idx = DELAYED_IDX[i]\n",
    "    data.delay = i - delayed_idx\n",
    "    delayed_data = LOG[delayed_idx]\n",
    "    delayed_sol = SOL[delayed_idx]\n",
    "\n",
    "    if LOCAL:\n",
    "        HQPData = invdyn.computeProblemData(t, q + noise_q, v + noise_v)\n",
    "        sol = solver.solve_local(HQPData, delayed_sol)\n",
    "        tau = invdyn.getActuatorForces(sol)\n",
    "\n",
    "    else:\n",
    "        # this will change the original data, better copy it\n",
    "        # but pickling of sol is not supported\n",
    "        solver.compute_slack(HQPData, delayed_sol)\n",
    "        sol = delayed_sol\n",
    "        tau = delayed_data.tau_remote\n",
    "        \n",
    "    data.slack = sol.slack\n",
    "    data.tau = tau\n",
    "    \n",
    "    # data logging from noiseless measurements\n",
    "    HQPData = invdyn.computeProblemData(t, q, v)\n",
    "    data.com.pos = robot.com(invdyn.data())\n",
    "    data.com.pos_ref = sampleCom.pos()\n",
    "\n",
    "    # bullet\n",
    "    pbwrapper.send_joint_command(tau)\n",
    "    if IMPACT_START <= i <= IMPACT_START + IMPACT_DURATION:\n",
    "        p.applyExternalForce(robot_id, 0, IMPACT_FORCE, [0,0,0], p.LINK_FRAME)\n",
    "    p.stepSimulation()\n",
    "    q, v = pbwrapper.get_state()\n",
    "    t += dt"
   ]
  },
  {
   "cell_type": "code",
   "execution_count": 16,
   "metadata": {},
   "outputs": [],
   "source": [
    "p.disconnect()"
   ]
  },
  {
   "cell_type": "code",
   "execution_count": 17,
   "metadata": {},
   "outputs": [],
   "source": [
    "exp_data = DotMap()\n",
    "file_name = 'balance_'\n",
    "data_path = parentdir + '/data/'\n",
    "\n",
    "if NS3:\n",
    "    exp_data.scenario = SCENARIO\n",
    "    file_name += SCENARIO\n",
    "    data_path += 'ns3/'\n",
    "else:\n",
    "    exp_data.delay = DELAY\n",
    "    exp_data.delay_start = DELAY_START\n",
    "    file_name += str(DELAY)\n",
    "    data_path += 'const/'\n",
    "    \n",
    "exp_data.local = LOCAL\n",
    "if LOCAL:\n",
    "    file_name += '_local'\n",
    "exp_data.impact_start = IMPACT_START\n",
    "exp_data.impact_duration = IMPACT_DURATION\n",
    "exp_data.impact_force = IMPACT_FORCE\n",
    "exp_data.log = LOG"
   ]
  },
  {
   "cell_type": "code",
   "execution_count": 18,
   "metadata": {},
   "outputs": [],
   "source": [
    "if LOGGING:\n",
    "    with open(data_path + file_name + '.pkl', 'wb') as f:\n",
    "        pickle.dump(exp_data, f, pickle.HIGHEST_PROTOCOL)"
   ]
  },
  {
   "cell_type": "code",
   "execution_count": 19,
   "metadata": {
    "scrolled": false
   },
   "outputs": [
    {
     "ename": "TypeError",
     "evalue": "unsupported operand type(s) for -: 'DotMap' and 'DotMap'",
     "output_type": "error",
     "traceback": [
      "\u001b[0;31m---------------------------------------------------------------------------\u001b[0m",
      "\u001b[0;31mTypeError\u001b[0m                                 Traceback (most recent call last)",
      "\u001b[0;32m<ipython-input-19-541ed342a0df>\u001b[0m in \u001b[0;36m<module>\u001b[0;34m()\u001b[0m\n\u001b[1;32m      3\u001b[0m \u001b[0maxes\u001b[0m \u001b[0;34m=\u001b[0m \u001b[0;34m[\u001b[0m\u001b[0;34m'x'\u001b[0m\u001b[0;34m,\u001b[0m \u001b[0;34m'y'\u001b[0m\u001b[0;34m,\u001b[0m \u001b[0;34m'z'\u001b[0m\u001b[0;34m]\u001b[0m\u001b[0;34m\u001b[0m\u001b[0m\n\u001b[1;32m      4\u001b[0m \u001b[0;32mfor\u001b[0m \u001b[0mi\u001b[0m \u001b[0;32min\u001b[0m \u001b[0mrange\u001b[0m\u001b[0;34m(\u001b[0m\u001b[0;36m3\u001b[0m\u001b[0;34m)\u001b[0m\u001b[0;34m:\u001b[0m\u001b[0;34m\u001b[0m\u001b[0m\n\u001b[0;32m----> 5\u001b[0;31m     \u001b[0merr\u001b[0m \u001b[0;34m=\u001b[0m \u001b[0mnp\u001b[0m\u001b[0;34m.\u001b[0m\u001b[0mabs\u001b[0m\u001b[0;34m(\u001b[0m\u001b[0;34m[\u001b[0m\u001b[0mdata\u001b[0m\u001b[0;34m.\u001b[0m\u001b[0mcom\u001b[0m\u001b[0;34m.\u001b[0m\u001b[0mpos\u001b[0m\u001b[0;34m[\u001b[0m\u001b[0mi\u001b[0m\u001b[0;34m]\u001b[0m\u001b[0;34m-\u001b[0m\u001b[0mdata\u001b[0m\u001b[0;34m.\u001b[0m\u001b[0mcom\u001b[0m\u001b[0;34m.\u001b[0m\u001b[0mpos_ref\u001b[0m\u001b[0;34m[\u001b[0m\u001b[0mi\u001b[0m\u001b[0;34m]\u001b[0m \u001b[0;32mfor\u001b[0m \u001b[0mdata\u001b[0m \u001b[0;32min\u001b[0m \u001b[0mLOG\u001b[0m\u001b[0;34m]\u001b[0m\u001b[0;34m)\u001b[0m\u001b[0;34m\u001b[0m\u001b[0m\n\u001b[0m\u001b[1;32m      6\u001b[0m     \u001b[0max\u001b[0m\u001b[0;34m[\u001b[0m\u001b[0;36m0\u001b[0m\u001b[0;34m]\u001b[0m\u001b[0;34m.\u001b[0m\u001b[0mplot\u001b[0m\u001b[0;34m(\u001b[0m\u001b[0mtime\u001b[0m\u001b[0;34m,\u001b[0m \u001b[0merr\u001b[0m\u001b[0;34m,\u001b[0m \u001b[0mlw\u001b[0m\u001b[0;34m=\u001b[0m\u001b[0;36m4\u001b[0m\u001b[0;34m,\u001b[0m \u001b[0mlabel\u001b[0m\u001b[0;34m=\u001b[0m\u001b[0;34m'CoM '\u001b[0m\u001b[0;34m+\u001b[0m\u001b[0maxes\u001b[0m\u001b[0;34m[\u001b[0m\u001b[0mi\u001b[0m\u001b[0;34m]\u001b[0m\u001b[0;34m)\u001b[0m\u001b[0;34m\u001b[0m\u001b[0m\n\u001b[1;32m      7\u001b[0m \u001b[0;34m\u001b[0m\u001b[0m\n",
      "\u001b[0;31mTypeError\u001b[0m: unsupported operand type(s) for -: 'DotMap' and 'DotMap'"
     ]
    },
    {
     "data": {
      "image/png": "[encoded data removed]",
      "text/plain": [
       "<Figure size 720x864 with 2 Axes>"
      ]
     },
     "metadata": {
      "needs_background": "light"
     },
     "output_type": "display_data"
    }
   ],
   "source": [
    "fig, ax = plt.subplots(2, figsize=(10, 12))\n",
    "time = np.arange(0.0, N_SIMULATION*dt, dt)\n",
    "axes = ['x', 'y', 'z']\n",
    "for i in range(3):\n",
    "    err = np.abs([data.com.pos[i]-data.com.pos_ref[i] for data in LOG])\n",
    "    ax[0].plot(time, err, lw=4, label='CoM '+axes[i])\n",
    "    \n",
    "ax[0].axvspan(IMPACT_START/1000.0, (IMPACT_START+IMPACT_DURATION)/1000.0 , alpha=0.5, color='red')\n",
    "ax[0].grid()\n",
    "ax[0].set_xlabel('Time [s]')\n",
    "ax[0].set_ylabel('CoM tracking error' + ' [m]' )\n",
    "_ = ax[0].legend(loc='upper center', bbox_to_anchor=(0.5, 1.25),\n",
    "             ncol=3, fancybox=True, shadow=True)\n",
    "ax[0].ticklabel_format(style='sci', axis='y', scilimits=(0, 0))\n",
    "ax[0].set_ylim([0, 0.13])\n",
    "\n",
    "slack = [data.slack[1] for data in LOG]\n",
    "ax[1].plot(time, slack, lw=1)\n",
    "ax[1].grid()\n",
    "ax[1].set_xlabel('Time [s]')\n",
    "ax[1].set_ylabel('Constraint violation' )\n",
    "# ax[1].ticklabel_format(style='sci', axis='y', scilimits=(0,0))\n",
    "\n",
    "file_name = 'err_'\n",
    "if NS3:\n",
    "    file_name += SCENARIO\n",
    "if LOCAL:\n",
    "    file_name += '_local'\n",
    "fig.savefig(file_name + '.png', bbox_inches='tight')"
   ]
  },
  {
   "cell_type": "code",
   "execution_count": null,
   "metadata": {},
   "outputs": [],
   "source": [
    "fig, ax = plt.subplots(1, figsize=(10, 6))\n",
    "time = np.arange(0.0, N_SIMULATION*dt, dt)\n",
    "axes = ['x', 'y', 'z']\n",
    "delays = [data.delay for data in LOG]\n",
    "ax.plot(time, delays, lw=1, color='k')\n",
    "ax.grid()\n",
    "ax.set_xlabel('Time [s]')\n",
    "ax.set_ylabel('Delay [ms]' )\n",
    "ax.axvspan(IMPACT_START/1000.0, (IMPACT_START+IMPACT_DURATION)/1000.0 , alpha=0.5, color='red')"
   ]
  },
  {
   "cell_type": "code",
   "execution_count": null,
   "metadata": {},
   "outputs": [],
   "source": [
    "com_err = [np.linalg.norm(data.com.pos-data.com.pos_ref) for data in LOG]\n",
    "print np.mean(com_err)\n",
    "print np.mean(slack)"
   ]
  }
 ],
 "metadata": {
  "kernelspec": {
   "display_name": "Python 2",
   "language": "python",
   "name": "python2"
  },
  "language_info": {
   "codemirror_mode": {
    "name": "ipython",
    "version": 2
   },
   "file_extension": ".py",
   "mimetype": "text/x-python",
   "name": "python",
   "nbconvert_exporter": "python",
   "pygments_lexer": "ipython2",
   "version": "2.7.17"
  }
 },
 "nbformat": 4,
 "nbformat_minor": 2
}
