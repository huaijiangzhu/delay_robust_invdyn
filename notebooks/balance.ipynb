{
 "cells": [
  {
   "cell_type": "code",
   "execution_count": 1,
   "metadata": {},
   "outputs": [],
   "source": [
    "%matplotlib inline\n",
    "%load_ext autoreload\n",
    "%autoreload 2\n",
    "import os\n",
    "import inspect\n",
    "\n",
    "currentdir = os.path.dirname(os.path.abspath(\n",
    "    inspect.getfile(inspect.currentframe())))\n",
    "parentdir = os.path.dirname(currentdir)\n",
    "srcdir = parentdir + '/src'\n",
    "os.sys.path.insert(1, srcdir)\n",
    "\n",
    "import numpy as np\n",
    "\n",
    "import time\n",
    "import pybullet as p\n",
    "import pybullet_data\n",
    "import pinocchio as se3\n",
    "import matplotlib\n",
    "import tsid\n",
    "import numpy.matlib as matlib\n",
    "from numpy import nan\n",
    "from numpy.linalg import norm as norm\n",
    "import commands\n",
    "\n",
    "import matplotlib.pyplot as plt\n",
    "from pinbullet_wrapper import PinBulletWrapper\n",
    "from pinocchio.robot_wrapper import RobotWrapper\n",
    "from pinocchio.utils import zero\n",
    "\n",
    "from dotmap import DotMap\n",
    "import pickle"
   ]
  },
  {
   "cell_type": "code",
   "execution_count": 2,
   "metadata": {},
   "outputs": [],
   "source": [
    "font = {'family' : 'serif',\n",
    "        'size'   : 22}\n",
    "\n",
    "matplotlib.rc('font', **font)\n",
    "np.set_printoptions(precision=3, linewidth=200, suppress=True)"
   ]
  },
  {
   "cell_type": "code",
   "execution_count": 3,
   "metadata": {},
   "outputs": [],
   "source": [
    "BMODE = p.GUI\n",
    "LOGGING = False\n",
    "LOCAL = True\n",
    "\n",
    "N_SIMULATION = 5000\n",
    "\n",
    "DELAY = 90\n",
    "NS3 = False\n",
    "SCENARIO = 'building'\n",
    "DELAY_START = 0\n",
    "\n",
    "IMPACT_START = 2500\n",
    "IMPACT_DURATION = 200\n",
    "IMPACT_FORCE = [100, 0, 0]"
   ]
  },
  {
   "cell_type": "code",
   "execution_count": 4,
   "metadata": {},
   "outputs": [],
   "source": [
    "# compute delayed indices\n",
    "DELAYED_IDX = []\n",
    "\n",
    "if NS3:\n",
    "    td = np.load('td_'+ SCENARIO +'.npy')\n",
    "    td = np.tile(td, int((N_SIMULATION + 1.0)/len(td)) + 1)\n",
    "    td = td[:N_SIMULATION]\n",
    "    time_received = np.array([i + td[i] for i in range(N_SIMULATION)])\n",
    "    \n",
    "    for i in range(N_SIMULATION):\n",
    "        # find the latest command arrived before the current time\n",
    "        idx_arrived = np.nonzero(time_received <= i)[0]\n",
    "        if idx_arrived.size > 0:\n",
    "            delayed_idx = idx_arrived.max()\n",
    "        else:\n",
    "            delayed_idx = 0\n",
    "        DELAYED_IDX.append(delayed_idx)\n",
    "    \n",
    "    \n",
    "else:\n",
    "    for i in range(N_SIMULATION):\n",
    "        if i>=DELAY_START:\n",
    "            delayed_idx = np.maximum(i-DELAY, DELAY_START)\n",
    "        else:\n",
    "            delayed_idx = i\n",
    "        DELAYED_IDX.append(delayed_idx)"
   ]
  },
  {
   "cell_type": "code",
   "execution_count": 5,
   "metadata": {},
   "outputs": [
    {
     "name": "stdout",
     "output_type": "stream",
     "text": [
      "############################################################\n",
      "############# Test Task Space Inverse Dynamics #############\n",
      "############################################################ \n",
      "\n"
     ]
    }
   ],
   "source": [
    "LINE_WIDTH = 60\n",
    "print \"\".center(LINE_WIDTH,'#')\n",
    "print \" Test Task Space Inverse Dynamics \".center(LINE_WIDTH, '#')\n",
    "print \"\".center(LINE_WIDTH,'#'), '\\n'\n",
    "\n",
    "lxp = 0.14                          # foot length in positive x direction\n",
    "lxn = 0.077                         # foot length in negative x direction\n",
    "lyp = 0.069                         # foot length in positive y direction\n",
    "lyn = 0.069                         # foot length in negative y direction\n",
    "lz = 0.105                          # foot sole height with respect to ankle joint\n",
    "mu = 1.0                            # friction coefficient\n",
    "fMin = 5.0                          # minimum normal force\n",
    "fMax = 1000.0                       # maximum normal force\n",
    "rf_frame_name = \"RAnkleRoll\"        # right foot frame name\n",
    "lf_frame_name = \"LAnkleRoll\"        # left foot frame name\n",
    "contactNormal = np.matrix([0., 0., 1.]).T   # direction of the normal to the contact surface\n",
    "\n",
    "w_com = 1.0                     # weight of center of mass task\n",
    "w_posture = 1e-3                # weight of joint posture task\n",
    "w_forceRef = 1e-5               # weight of force regularization task\n",
    "\n",
    "kp_contact = 10.0               # proportional gain of contact constraint\n",
    "kp_com = 10.0                   # proportional gain of center of mass task\n",
    "kp_posture = 30.0               # proportional gain of joint posture task"
   ]
  },
  {
   "cell_type": "code",
   "execution_count": 6,
   "metadata": {},
   "outputs": [],
   "source": [
    "path = parentdir + '/models/romeo'\n",
    "robot_urdf = path + '/urdf/romeo.urdf'\n",
    "plane_urdf = parentdir + '/models/plane.urdf'\n",
    "vector = se3.StdVec_StdString()\n",
    "vector.extend(item for item in path)\n",
    "robot = tsid.RobotWrapper(robot_urdf, vector, se3.JointModelFreeFlyer(), False)\n",
    "pinocchio_robot = se3.buildModelFromUrdf(robot_urdf, se3.JointModelFreeFlyer())"
   ]
  },
  {
   "cell_type": "code",
   "execution_count": 7,
   "metadata": {},
   "outputs": [],
   "source": [
    "physicsClient = p.connect(BMODE)\n",
    "dt = 1e-3\n",
    "p.setTimeStep(dt)\n",
    "p.setGravity(0,0,-9.81)\n",
    "robot_id = p.loadURDF(robot_urdf,[0,0,0])\n",
    "plane_id = p.loadURDF(plane_urdf,[0,0,-0.88], useFixedBase=True)"
   ]
  },
  {
   "cell_type": "code",
   "execution_count": 8,
   "metadata": {},
   "outputs": [],
   "source": [
    "joint_names = [n for n in robot.model().names]\n",
    "del joint_names[0]\n",
    "del joint_names[0]\n",
    "endeff_names = [\"l_sole\", \"r_sole\"]\n",
    "pbwrapper = PinBulletWrapper(robot_id, pinocchio_robot, joint_names, endeff_names)"
   ]
  },
  {
   "cell_type": "code",
   "execution_count": 9,
   "metadata": {},
   "outputs": [],
   "source": [
    "p.changeDynamics(plane_id, -1, restitution=0.99,\n",
    "                 lateralFriction=1.0, spinningFriction=1.0, rollingFriction=1.0,\n",
    "                 contactStiffness=1e6, contactDamping=2e3)\n",
    "p.resetJointState(robot_id, 20, np.pi/3)\n",
    "p.resetJointState(robot_id, 27, np.pi/3)"
   ]
  },
  {
   "cell_type": "code",
   "execution_count": 10,
   "metadata": {},
   "outputs": [],
   "source": [
    "q, v = pbwrapper.get_state()\n",
    "assert robot.model().existFrame(rf_frame_name)\n",
    "assert robot.model().existFrame(lf_frame_name)"
   ]
  },
  {
   "cell_type": "code",
   "execution_count": 11,
   "metadata": {},
   "outputs": [
    {
     "data": {
      "text/plain": [
       "True"
      ]
     },
     "execution_count": 11,
     "metadata": {},
     "output_type": "execute_result"
    }
   ],
   "source": [
    "t = 0.0                         # time\n",
    "invdyn = tsid.InverseDynamicsFormulationAccForce(\"tsid\", robot, False)\n",
    "invdyn.computeProblemData(t, q, v)\n",
    "data = invdyn.data()\n",
    "contact_Point = np.matrix(np.ones((3,4)) * lz)\n",
    "contact_Point[0, :] = [-lxn, -lxn, lxp, lxp]\n",
    "contact_Point[1, :] = [-lyn, lyp, -lyn, lyp]\n",
    "\n",
    "contactRF =tsid.Contact6d(\"contact_rfoot\", robot, rf_frame_name, contact_Point, contactNormal, mu, fMin, fMax, w_forceRef)\n",
    "contactRF.setKp(kp_contact * matlib.ones(6).T)\n",
    "contactRF.setKd(2.0 * np.sqrt(kp_contact) * matlib.ones(6).T)\n",
    "H_rf_ref = robot.position(data, robot.model().getJointId(rf_frame_name))\n",
    "contactRF.setReference(H_rf_ref)\n",
    "invdyn.addRigidContact(contactRF)\n",
    "\n",
    "contactLF =tsid.Contact6d(\"contact_lfoot\", robot, lf_frame_name, contact_Point, contactNormal, mu, fMin, fMax, w_forceRef)\n",
    "contactLF.setKp(kp_contact * matlib.ones(6).T)\n",
    "contactLF.setKd(2.0 * np.sqrt(kp_contact) * matlib.ones(6).T)\n",
    "H_lf_ref = robot.position(data, robot.model().getJointId(lf_frame_name))\n",
    "contactLF.setReference(H_lf_ref)\n",
    "invdyn.addRigidContact(contactLF)"
   ]
  },
  {
   "cell_type": "code",
   "execution_count": 12,
   "metadata": {},
   "outputs": [],
   "source": [
    "comTask = tsid.TaskComEquality(\"task-com\", robot)\n",
    "comTask.setKp(kp_com * matlib.ones(3).T)\n",
    "comTask.setKd(2.0 * np.sqrt(kp_com) * matlib.ones(3).T)\n",
    "invdyn.addMotionTask(comTask, w_com, 1, 0.0)\n",
    "\n",
    "postureTask = tsid.TaskJointPosture(\"task-posture\", robot)\n",
    "postureTask.setKp(kp_posture * matlib.ones(robot.nv-6).T)\n",
    "postureTask.setKd(2.0 * np.sqrt(kp_posture) * matlib.ones(robot.nv-6).T)\n",
    "invdyn.addMotionTask(postureTask, w_posture, 1, 0.0)\n",
    "\n",
    "com_ref = robot.com(data)\n",
    "trajCom = tsid.TrajectoryEuclidianConstant(\"traj_com\", com_ref)\n",
    "\n",
    "q_ref = q[7:]\n",
    "trajPosture = tsid.TrajectoryEuclidianConstant(\"traj_joint\", q_ref)\n",
    "\n",
    "solver = tsid.SolverHQuadProgFast(\"qp solver\")\n",
    "solver.resize(invdyn.nVar, invdyn.nEq, invdyn.nIn)"
   ]
  },
  {
   "cell_type": "code",
   "execution_count": 13,
   "metadata": {},
   "outputs": [],
   "source": [
    "for i in range(2000):\n",
    "    \n",
    "    sampleCom = trajCom.computeNext()\n",
    "    comTask.setReference(sampleCom)\n",
    "    samplePosture = trajPosture.computeNext()\n",
    "    postureTask.setReference(samplePosture)\n",
    "    HQPData = invdyn.computeProblemData(t, q, v)\n",
    "    \n",
    "    sol = solver.solve(HQPData)\n",
    "    tau = invdyn.getActuatorForces(sol)\n",
    "    dv = invdyn.getAccelerations(sol)                 \n",
    "    if(sol.status!=0):\n",
    "        print \"QP problem could not be solved! Error code:\", sol.status\n",
    "        break\n",
    "              \n",
    "    # bullet\n",
    "    pbwrapper.send_joint_command(tau)    \n",
    "    p.stepSimulation()\n",
    "    q, v = pbwrapper.get_state()\n",
    "    t += dt\n",
    "    \n",
    "com_ref = robot.com(invdyn.data())\n",
    "trajCom = tsid.TrajectoryEuclidianConstant(\"traj_com\", com_ref)"
   ]
  },
  {
   "cell_type": "code",
   "execution_count": 14,
   "metadata": {},
   "outputs": [],
   "source": [
    "LOG = []\n",
    "SOL = []\n",
    "\n",
    "for i in range(0, N_SIMULATION):\n",
    "    \n",
    "    data = DotMap()\n",
    "    LOG.append(data)\n",
    "    sampleCom = trajCom.computeNext()\n",
    "    comTask.setReference(sampleCom)\n",
    "    samplePosture = trajPosture.computeNext()\n",
    "    postureTask.setReference(samplePosture)\n",
    "    \n",
    "    noise_q = 1e-2 * np.matrix(np.random.randn(q.shape[0])).T\n",
    "    noise_q[:7] = 0\n",
    "\n",
    "    noise_v = 1e-1 * np.matrix(np.random.randn(v.shape[0])).T\n",
    "    noise_v[:6] = 0\n",
    "    \n",
    "    HQPData = invdyn.computeProblemData(t, q+noise_q, v+noise_v)\n",
    "    \n",
    "    data.q = q + noise_q\n",
    "    data.v = v + noise_v\n",
    "    data.noise_q = noise_q\n",
    "    data.noise_v = noise_v\n",
    "    \n",
    "    sol = solver.solve(HQPData)\n",
    "    if(sol.status!=0):\n",
    "        print \"QP problem could not be solved! Error code:\", sol.status\n",
    "        break\n",
    "    SOL.append(sol)\n",
    "    tau = invdyn.getActuatorForces(sol)\n",
    "    data.tau_remote = tau\n",
    "    \n",
    "    delayed_idx = DELAYED_IDX[i]\n",
    "    data.delay = i - delayed_idx\n",
    "    delayed_data = LOG[delayed_idx]\n",
    "    delayed_sol = SOL[delayed_idx]\n",
    "\n",
    "    if LOCAL:\n",
    "        HQPData = invdyn.computeProblemData(t, q + noise_q, v + noise_v)\n",
    "        sol = solver.solve_local(HQPData, delayed_sol)\n",
    "        tau = invdyn.getActuatorForces(sol)\n",
    "\n",
    "    else:\n",
    "        # this will change the original data, better copy it\n",
    "        # but pickling of sol is not supported\n",
    "        solver.compute_slack(HQPData, delayed_sol)\n",
    "        sol = delayed_sol\n",
    "        tau = delayed_data.tau_remote\n",
    "        \n",
    "    data.slack = sol.slack\n",
    "    data.tau = tau\n",
    "    \n",
    "    # data logging from noiseless measurements\n",
    "    HQPData = invdyn.computeProblemData(t, q, v)\n",
    "    data.com.pos = robot.com(invdyn.data())\n",
    "    data.com.pos_ref = sampleCom.pos()\n",
    "\n",
    "    # bullet\n",
    "    pbwrapper.send_joint_command(tau)\n",
    "    if IMPACT_START <= i <= IMPACT_START + IMPACT_DURATION:\n",
    "        p.applyExternalForce(robot_id, 0, IMPACT_FORCE, [0,0,0], p.LINK_FRAME)\n",
    "    p.stepSimulation()\n",
    "    q, v = pbwrapper.get_state()\n",
    "    t += dt"
   ]
  },
  {
   "cell_type": "code",
   "execution_count": 15,
   "metadata": {},
   "outputs": [],
   "source": [
    "p.disconnect()"
   ]
  },
  {
   "cell_type": "code",
   "execution_count": 16,
   "metadata": {},
   "outputs": [],
   "source": [
    "exp_data = DotMap()\n",
    "file_name = 'balance_'\n",
    "data_path = parentdir + '/data/'\n",
    "\n",
    "if NS3:\n",
    "    exp_data.scenario = SCENARIO\n",
    "    file_name += SCENARIO\n",
    "    data_path += 'ns3/'\n",
    "else:\n",
    "    exp_data.delay = DELAY\n",
    "    exp_data.delay_start = DELAY_START\n",
    "    file_name += str(DELAY)\n",
    "    data_path += 'const/'\n",
    "    \n",
    "exp_data.local = LOCAL\n",
    "if LOCAL:\n",
    "    file_name += '_local'\n",
    "exp_data.impact_start = IMPACT_START\n",
    "exp_data.impact_duration = IMPACT_DURATION\n",
    "exp_data.impact_force = IMPACT_FORCE\n",
    "exp_data.log = LOG"
   ]
  },
  {
   "cell_type": "code",
   "execution_count": 17,
   "metadata": {},
   "outputs": [],
   "source": [
    "if LOGGING:\n",
    "    with open(data_path + file_name + '.pkl', 'wb') as f:\n",
    "        pickle.dump(exp_data, f, pickle.HIGHEST_PROTOCOL)"
   ]
  },
  {
   "cell_type": "code",
   "execution_count": 18,
   "metadata": {
    "scrolled": false
   },
   "outputs": [
    {
     "data": {
      "image/png": "[encoded data removed]",
      "text/plain": [
       "<Figure size 720x432 with 1 Axes>"
      ]
     },
     "metadata": {
      "needs_background": "light"
     },
     "output_type": "display_data"
    }
   ],
   "source": [
    "fig, ax = plt.subplots(1, figsize=(10, 6))\n",
    "time = np.arange(0.0, N_SIMULATION*dt, dt)\n",
    "axes = ['x', 'y', 'z']\n",
    "for i in range(3):\n",
    "    err = np.abs([data.com.pos[i,0]-data.com.pos_ref[i,0] for data in LOG])\n",
    "    ax.plot(time, err, lw=4, label='CoM '+axes[i])\n",
    "    \n",
    "ax.axvspan(IMPACT_START/1000.0, (IMPACT_START+IMPACT_DURATION)/1000.0 , alpha=0.5, color='red')\n",
    "ax.grid()\n",
    "ax.set_xlabel('Time [s]')\n",
    "ax.set_ylabel('CoM tracking error' + ' [m]' )\n",
    "# ax.set_ylim([0, 30])\n",
    "\n",
    "_ = ax.legend(loc='upper center', bbox_to_anchor=(0.5, 1.25),\n",
    "             ncol=3, fancybox=True, shadow=True)\n",
    "\n",
    "fig.savefig('com_err_0.eps')"
   ]
  },
  {
   "cell_type": "code",
   "execution_count": 19,
   "metadata": {},
   "outputs": [
    {
     "data": {
      "text/plain": [
       "Text(0,0.5,'Constraint violation')"
      ]
     },
     "execution_count": 19,
     "metadata": {},
     "output_type": "execute_result"
    },
    {
     "data": {
      "image/png": "[encoded data removed]",
      "text/plain": [
       "<Figure size 720x432 with 1 Axes>"
      ]
     },
     "metadata": {
      "needs_background": "light"
     },
     "output_type": "display_data"
    }
   ],
   "source": [
    "fig, ax = plt.subplots(1, figsize=(10, 6))\n",
    "time = np.arange(0.0, N_SIMULATION*dt, dt)\n",
    "axes = ['x', 'y', 'z']\n",
    "slack = [data.slack[1, 0] for data in LOG]\n",
    "ax.plot(time, slack, lw=2)\n",
    "ax.axvspan(IMPACT_START/1000.0, (IMPACT_START+IMPACT_DURATION)/1000.0 , alpha=0.5, color='red')\n",
    "ax.grid()\n",
    "ax.set_xlabel('Time [s]')\n",
    "ax.set_ylabel('Constraint violation' )"
   ]
  },
  {
   "cell_type": "code",
   "execution_count": 20,
   "metadata": {},
   "outputs": [
    {
     "name": "stdout",
     "output_type": "stream",
     "text": [
      "0.025329453669788022\n",
      "0.16497947550056954\n"
     ]
    }
   ],
   "source": [
    "com_err = [np.linalg.norm(data.com.pos-data.com.pos_ref) for data in LOG]\n",
    "print np.mean(com_err)\n",
    "print np.mean(slack)"
   ]
  }
 ],
 "metadata": {
  "kernelspec": {
   "display_name": "Python 2",
   "language": "python",
   "name": "python2"
  },
  "language_info": {
   "codemirror_mode": {
    "name": "ipython",
    "version": 2
   },
   "file_extension": ".py",
   "mimetype": "text/x-python",
   "name": "python",
   "nbconvert_exporter": "python",
   "pygments_lexer": "ipython2",
   "version": "2.7.12"
  }
 },
 "nbformat": 4,
 "nbformat_minor": 2
}
